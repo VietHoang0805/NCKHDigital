{
 "cells": [
  {
   "cell_type": "code",
   "execution_count": 16,
   "metadata": {},
   "outputs": [
    {
     "name": "stdout",
     "output_type": "stream",
     "text": [
      "Defaulting to user installation because normal site-packages is not writeable\n",
      "Collecting openai==0.28\n",
      "  Downloading openai-0.28.0-py3-none-any.whl (76 kB)\n",
      "Requirement already satisfied: aiohttp in c:\\programdata\\anaconda3\\lib\\site-packages (from openai==0.28) (3.8.1)\n",
      "Requirement already satisfied: tqdm in c:\\programdata\\anaconda3\\lib\\site-packages (from openai==0.28) (4.64.0)\n",
      "Requirement already satisfied: requests>=2.20 in c:\\programdata\\anaconda3\\lib\\site-packages (from openai==0.28) (2.27.1)\n",
      "Requirement already satisfied: certifi>=2017.4.17 in c:\\programdata\\anaconda3\\lib\\site-packages (from requests>=2.20->openai==0.28) (2021.10.8)\n",
      "Requirement already satisfied: urllib3<1.27,>=1.21.1 in c:\\programdata\\anaconda3\\lib\\site-packages (from requests>=2.20->openai==0.28) (1.26.9)\n",
      "Requirement already satisfied: idna<4,>=2.5 in c:\\programdata\\anaconda3\\lib\\site-packages (from requests>=2.20->openai==0.28) (3.3)\n",
      "Requirement already satisfied: charset-normalizer~=2.0.0 in c:\\programdata\\anaconda3\\lib\\site-packages (from requests>=2.20->openai==0.28) (2.0.4)\n",
      "Requirement already satisfied: multidict<7.0,>=4.5 in c:\\programdata\\anaconda3\\lib\\site-packages (from aiohttp->openai==0.28) (5.1.0)\n",
      "Requirement already satisfied: yarl<2.0,>=1.0 in c:\\programdata\\anaconda3\\lib\\site-packages (from aiohttp->openai==0.28) (1.6.3)\n",
      "Requirement already satisfied: async-timeout<5.0,>=4.0.0a3 in c:\\programdata\\anaconda3\\lib\\site-packages (from aiohttp->openai==0.28) (4.0.1)\n",
      "Requirement already satisfied: aiosignal>=1.1.2 in c:\\programdata\\anaconda3\\lib\\site-packages (from aiohttp->openai==0.28) (1.2.0)\n",
      "Requirement already satisfied: attrs>=17.3.0 in c:\\programdata\\anaconda3\\lib\\site-packages (from aiohttp->openai==0.28) (21.4.0)\n",
      "Requirement already satisfied: frozenlist>=1.1.1 in c:\\programdata\\anaconda3\\lib\\site-packages (from aiohttp->openai==0.28) (1.2.0)\n",
      "Requirement already satisfied: typing-extensions>=3.6.5 in c:\\users\\dell.desktop-ktvg86q\\appdata\\roaming\\python\\python39\\site-packages (from async-timeout<5.0,>=4.0.0a3->aiohttp->openai==0.28) (4.10.0)\n",
      "Requirement already satisfied: colorama in c:\\programdata\\anaconda3\\lib\\site-packages (from tqdm->openai==0.28) (0.4.4)\n",
      "Installing collected packages: openai\n",
      "  Attempting uninstall: openai\n",
      "    Found existing installation: openai 1.12.0\n",
      "    Uninstalling openai-1.12.0:\n",
      "      Successfully uninstalled openai-1.12.0\n",
      "Successfully installed openai-0.28.0\n",
      "Note: you may need to restart the kernel to use updated packages.\n"
     ]
    },
    {
     "name": "stderr",
     "output_type": "stream",
     "text": [
      "  WARNING: The script openai.exe is installed in 'C:\\Users\\Dell.DESKTOP-KTVG86Q\\AppData\\Roaming\\Python\\Python39\\Scripts' which is not on PATH.\n",
      "  Consider adding this directory to PATH or, if you prefer to suppress this warning, use --no-warn-script-location.\n"
     ]
    }
   ],
   "source": [
    "# Dòng lệnh cài thư viện \n",
    "# %pip install pdfminer.six\n",
    "# %pip install pdf2image\n",
    "# %pip install pytesseract\n",
    "# %pip install pyvi\n",
    "# %pip install underthesea\n",
    "# %pip install opencv-python\n",
    "%pip install openai==0.28\n",
    "# %pip install pyspellchecker\n"
   ]
  },
  {
   "cell_type": "code",
   "execution_count": 1,
   "metadata": {},
   "outputs": [],
   "source": [
    "# Import thư viện \n",
    "import re\n",
    "from pdfminer.high_level import extract_text"
   ]
  },
  {
   "cell_type": "code",
   "execution_count": 2,
   "metadata": {},
   "outputs": [
    {
     "name": "stdout",
     "output_type": "stream",
     "text": [
      "Cụm từ ' digital ' xuất hiện 17 lần trong PDF: pdftest.pdf\n"
     ]
    }
   ],
   "source": [
    "# Cách 1\n",
    "import re\n",
    "from io import StringIO\n",
    "from pdfminer.pdfinterp import PDFResourceManager, PDFPageInterpreter\n",
    "from pdfminer.converter import TextConverter\n",
    "from pdfminer.layout import LAParams\n",
    "from pdfminer.pdfpage import PDFPage\n",
    "\n",
    "def extract_text_from_pdf(file_path):\n",
    "    resource_manager = PDFResourceManager()\n",
    "    fake_file_handle = StringIO()\n",
    "    converter = TextConverter(resource_manager, fake_file_handle, laparams=LAParams())\n",
    "    page_interpreter = PDFPageInterpreter(resource_manager, converter)\n",
    "\n",
    "    with open(file_path, 'rb') as file:\n",
    "        for page in PDFPage.get_pages(file, check_extractable=False):\n",
    "            page_interpreter.process_page(page)\n",
    "\n",
    "        text = fake_file_handle.getvalue()\n",
    "\n",
    "    converter.close()\n",
    "    fake_file_handle.close()\n",
    "\n",
    "    return text\n",
    "\n",
    "def count_words_in_pdf(file_path, target_word):\n",
    "    count = 0\n",
    "    text = extract_text_from_pdf(file_path)\n",
    "    # Sử dụng biểu thức chính quy để tìm kiếm từ hoặc cụm từ không phân biệt chữ hoa và thường\n",
    "    pattern = re.compile(re.escape(target_word), re.IGNORECASE)\n",
    "    word_count = len(pattern.findall(text))\n",
    "    count += word_count\n",
    "    return count\n",
    "\n",
    "pdf_files = [\"pdftest.pdf\"]\n",
    "word_to_find = ' digital '\n",
    "\n",
    "for file_path in pdf_files:\n",
    "    word_count = count_words_in_pdf(file_path, word_to_find)\n",
    "    if word_count > 0:\n",
    "        print(f\"Cụm từ '{word_to_find}' xuất hiện {word_count} lần trong PDF: {file_path}\")\n",
    "    else:\n",
    "        print(f\"Cụm từ '{word_to_find}' không được tìm thấy trong PDF: {file_path}\")"
   ]
  },
  {
   "cell_type": "code",
   "execution_count": 3,
   "metadata": {},
   "outputs": [
    {
     "data": {
      "application/vnd.jupyter.widget-view+json": {
       "model_id": "095afa73db0d4b708987ad0c5e7f6652",
       "version_major": 2,
       "version_minor": 0
      },
      "text/plain": [
       "Dropdown(description='Select PDF File', options=('pdftest.pdf',), value='pdftest.pdf')"
      ]
     },
     "metadata": {},
     "output_type": "display_data"
    },
    {
     "data": {
      "application/vnd.jupyter.widget-view+json": {
       "model_id": "b6ccb3be060f452ebb9c6e61aae6b3d9",
       "version_major": 2,
       "version_minor": 0
      },
      "text/plain": [
       "Text(value='', description='Keyword 1')"
      ]
     },
     "metadata": {},
     "output_type": "display_data"
    },
    {
     "data": {
      "application/vnd.jupyter.widget-view+json": {
       "model_id": "e1e6185486eb4ed49019bdc68146b00b",
       "version_major": 2,
       "version_minor": 0
      },
      "text/plain": [
       "Text(value='', description='Keyword 2')"
      ]
     },
     "metadata": {},
     "output_type": "display_data"
    },
    {
     "data": {
      "application/vnd.jupyter.widget-view+json": {
       "model_id": "e846769b5afc415eb52967b50903445d",
       "version_major": 2,
       "version_minor": 0
      },
      "text/plain": [
       "Text(value='', description='Keyword 3')"
      ]
     },
     "metadata": {},
     "output_type": "display_data"
    },
    {
     "data": {
      "application/vnd.jupyter.widget-view+json": {
       "model_id": "7e2dda16512841378c25d5094b2c2b4f",
       "version_major": 2,
       "version_minor": 0
      },
      "text/plain": [
       "Text(value='', description='Keyword 4')"
      ]
     },
     "metadata": {},
     "output_type": "display_data"
    },
    {
     "data": {
      "application/vnd.jupyter.widget-view+json": {
       "model_id": "985b9402cd744ca9ae81db7221a5d281",
       "version_major": 2,
       "version_minor": 0
      },
      "text/plain": [
       "Button(description='Submit', style=ButtonStyle())"
      ]
     },
     "metadata": {},
     "output_type": "display_data"
    },
    {
     "data": {
      "application/vnd.jupyter.widget-view+json": {
       "model_id": "2a79708932884ddaacdf107336310f96",
       "version_major": 2,
       "version_minor": 0
      },
      "text/plain": [
       "Output()"
      ]
     },
     "metadata": {},
     "output_type": "display_data"
    },
    {
     "data": {
      "application/vnd.jupyter.widget-view+json": {
       "model_id": "2ba811f5c90a49d292563f0479074a5c",
       "version_major": 2,
       "version_minor": 0
      },
      "text/plain": [
       "Output()"
      ]
     },
     "metadata": {},
     "output_type": "display_data"
    },
    {
     "data": {
      "application/vnd.jupyter.widget-view+json": {
       "model_id": "fa69095455834613b95d1c8c2024ff9e",
       "version_major": 2,
       "version_minor": 0
      },
      "text/plain": [
       "Output()"
      ]
     },
     "metadata": {},
     "output_type": "display_data"
    },
    {
     "data": {
      "application/vnd.jupyter.widget-view+json": {
       "model_id": "806a152c5c164a7d9bb52a38db6f7e67",
       "version_major": 2,
       "version_minor": 0
      },
      "text/plain": [
       "Output()"
      ]
     },
     "metadata": {},
     "output_type": "display_data"
    }
   ],
   "source": [
    "# Đoạn code không phân biệt chữ hoa và chữ thường và tính dính liền\n",
    "import re\n",
    "from pdfminer.high_level import extract_text\n",
    "from ipywidgets import interact, widgets\n",
    "from IPython.display import display\n",
    "\n",
    "def find_and_count_keyword_in_pdf(pdf_file, keyword):\n",
    "    count = 0\n",
    "\n",
    "    with open(pdf_file, 'rb') as file:\n",
    "        text = extract_text(file)\n",
    "        pattern = re.compile(re.escape(keyword), re.IGNORECASE)\n",
    "        count = len(pattern.findall(text))\n",
    "    \n",
    "    return count\n",
    "\n",
    "pdf_files = [\"pdftest.pdf\"]\n",
    "\n",
    "pdf_file_dropdown = widgets.Dropdown(options=pdf_files, description='Select PDF File')\n",
    "keyword_text_1 = widgets.Text(description='Keyword 1')\n",
    "keyword_text_2 = widgets.Text(description='Keyword 2')\n",
    "keyword_text_3 = widgets.Text(description='Keyword 3')\n",
    "keyword_text_4 = widgets.Text(description='Keyword 4')\n",
    "submit_button = widgets.Button(description='Submit')\n",
    "result_output_1 = widgets.Output()\n",
    "result_output_2 = widgets.Output()\n",
    "result_output_3 = widgets.Output()\n",
    "result_output_4 = widgets.Output()\n",
    "\n",
    "def on_submit_clicked(b):\n",
    "    keyword_1 = keyword_text_1.value\n",
    "    keyword_2 = keyword_text_2.value\n",
    "    keyword_3 = keyword_text_3.value\n",
    "    keyword_4 = keyword_text_4.value\n",
    "    pdf_file = pdf_file_dropdown.value\n",
    "    word_count_1 = find_and_count_keyword_in_pdf(pdf_file, keyword_1)\n",
    "    word_count_2 = find_and_count_keyword_in_pdf(pdf_file, keyword_2)\n",
    "    word_count_3 = find_and_count_keyword_in_pdf(pdf_file, keyword_3)\n",
    "    word_count_4 = find_and_count_keyword_in_pdf(pdf_file, keyword_4)\n",
    "    with result_output_1:\n",
    "        result_output_1.clear_output()\n",
    "        if word_count_1 > 0:\n",
    "            print(f\"Cụm từ '{keyword_1}' xuất hiện {word_count_1} lần trong PDF: {pdf_file}\")\n",
    "        else:\n",
    "            print(f\"Cụm từ '{keyword_1}' không được tìm thấy trong PDF: {pdf_file}\")\n",
    "        \n",
    "    with result_output_2:\n",
    "        result_output_2.clear_output()\n",
    "        if word_count_2 > 0:\n",
    "            print(f\"Cụm từ '{keyword_2}' xuất hiện {word_count_2} lần trong PDF: {pdf_file}\")\n",
    "        else:\n",
    "            print(f\"Cụm từ '{keyword_2}' không được tìm thấy trong PDF: {pdf_file}\")\n",
    "    with result_output_3:\n",
    "        result_output_3.clear_output()\n",
    "        if word_count_3 > 0:\n",
    "            print(f\"Cụm từ '{keyword_3}' xuất hiện {word_count_3} lần trong PDF: {pdf_file}\")\n",
    "        else:\n",
    "            print(f\"Cụm từ '{keyword_3}' không được tìm thấy trong PDF: {pdf_file}\")  \n",
    "    with result_output_4:\n",
    "        result_output_4.clear_output()\n",
    "        if word_count_4 > 0:\n",
    "            print(f\"Cụm từ '{keyword_4}' xuất hiện {word_count_4} lần trong PDF: {pdf_file}\")\n",
    "        else:\n",
    "            print(f\"Cụm từ '{keyword_4}' không được tìm thấy trong PDF: {pdf_file}\")   \n",
    "submit_button.on_click(on_submit_clicked)\n",
    "\n",
    "display(pdf_file_dropdown, keyword_text_1, keyword_text_2, keyword_text_3,keyword_text_4, submit_button)\n",
    "display(result_output_1)\n",
    "display(result_output_2)\n",
    "display(result_output_3)\n",
    "display(result_output_4)\n",
    "\n"
   ]
  },
  {
   "cell_type": "code",
   "execution_count": 4,
   "metadata": {},
   "outputs": [
    {
     "data": {
      "application/vnd.jupyter.widget-view+json": {
       "model_id": "244fe93dbddd4983942a451954c0e12c",
       "version_major": 2,
       "version_minor": 0
      },
      "text/plain": [
       "Dropdown(description='Select PDF File', options=('pdftest.pdf',), value='pdftest.pdf')"
      ]
     },
     "metadata": {},
     "output_type": "display_data"
    },
    {
     "data": {
      "application/vnd.jupyter.widget-view+json": {
       "model_id": "fbfa76a57d3f49a78b348c01201055a7",
       "version_major": 2,
       "version_minor": 0
      },
      "text/plain": [
       "Text(value='', description='Keyword')"
      ]
     },
     "metadata": {},
     "output_type": "display_data"
    },
    {
     "data": {
      "application/vnd.jupyter.widget-view+json": {
       "model_id": "fe38cf382321447097ebf290772d5b78",
       "version_major": 2,
       "version_minor": 0
      },
      "text/plain": [
       "Button(description='Submit', style=ButtonStyle())"
      ]
     },
     "metadata": {},
     "output_type": "display_data"
    },
    {
     "data": {
      "application/vnd.jupyter.widget-view+json": {
       "model_id": "4f426e1b68664d0aaf540ada1867959f",
       "version_major": 2,
       "version_minor": 0
      },
      "text/plain": [
       "Output()"
      ]
     },
     "metadata": {},
     "output_type": "display_data"
    }
   ],
   "source": [
    "# Đoạn code không phân biệt chữ hoa và chữ thường và không tính dính liền\n",
    "import re\n",
    "from pdfminer.high_level import extract_text\n",
    "from ipywidgets import interact, widgets\n",
    "from IPython.display import display\n",
    "\n",
    "def find_and_count_keyword_in_pdf_2(pdf_file, keyword):\n",
    "    count = 0\n",
    "\n",
    "    with open(pdf_file, 'rb') as file:\n",
    "        text = extract_text(file)\n",
    "        pattern = re.compile(r'\\b' + re.escape(keyword) + r'\\b', re.IGNORECASE)\n",
    "        count = len(pattern.findall(text))\n",
    "    \n",
    "    return count\n",
    "\n",
    "pdf_files = [\"pdftest.pdf\"]\n",
    "\n",
    "pdf_file_dropdown = widgets.Dropdown(options=pdf_files, description='Select PDF File')\n",
    "keyword_text = widgets.Text(description='Keyword')\n",
    "submit_button = widgets.Button(description='Submit')\n",
    "result_output = widgets.Output()\n",
    "\n",
    "def on_submit_clicked(b):\n",
    "    keyword = keyword_text.value\n",
    "    pdf_file = pdf_file_dropdown.value\n",
    "    word_count = find_and_count_keyword_in_pdf_2(pdf_file, keyword)\n",
    "    with result_output:\n",
    "        result_output.clear_output()\n",
    "        if word_count > 0:\n",
    "            print(f\"Cụm từ '{keyword}' xuất hiện {word_count} lần trong PDF: {pdf_file}\")\n",
    "        else:\n",
    "            print(f\"Cụm từ '{keyword}' không được tìm thấy trong PDF: {pdf_file}\")\n",
    "\n",
    "submit_button.on_click(on_submit_clicked)\n",
    "\n",
    "display(pdf_file_dropdown, keyword_text, submit_button)\n",
    "display(result_output)\n"
   ]
  },
  {
   "cell_type": "code",
   "execution_count": 4,
   "metadata": {},
   "outputs": [
    {
     "name": "stdout",
     "output_type": "stream",
     "text": [
      "Cụm từ 'Digital' xuất hiện 1 lần trong PDF: pdftest.pdf\n"
     ]
    }
   ],
   "source": [
    "# Đoạn code phân biệt cả chữ viết hoa và viết thường\n",
    "import re\n",
    "from pdfminer.high_level import extract_text\n",
    "\n",
    "def custom_find_and_count_keyword_in_pdf(pdf_file, keyword):\n",
    "    count = 0\n",
    "\n",
    "    with open(pdf_file, 'rb') as file:\n",
    "        text = extract_text(file)\n",
    "        pattern = re.compile(r'\\b' + re.escape(keyword) + r'\\b', re.IGNORECASE)\n",
    "        \n",
    "        for match in pattern.finditer(text):\n",
    "            if match.group() == keyword:\n",
    "                count += 1\n",
    "    \n",
    "    return count\n",
    "\n",
    "pdf_files = [\"pdftest.pdf\"]\n",
    "word_to_find = 'Digital'\n",
    "\n",
    "for file_path in pdf_files:\n",
    "    word_count = custom_find_and_count_keyword_in_pdf(file_path, word_to_find)\n",
    "    if word_count > 0:\n",
    "        print(f\"Cụm từ '{word_to_find}' xuất hiện {word_count} lần trong PDF: {file_path}\")\n",
    "    else:\n",
    "        print(f\"Cụm từ '{word_to_find}' không được tìm thấy trong PDF: {file_path}\")\n"
   ]
  },
  {
   "cell_type": "code",
   "execution_count": 10,
   "metadata": {},
   "outputs": [
    {
     "data": {
      "application/vnd.jupyter.widget-view+json": {
       "model_id": "42b4dcd6bd6f4df6962fa32b6bc23bf0",
       "version_major": 2,
       "version_minor": 0
      },
      "text/plain": [
       "Dropdown(description='Select PDF File', options=('pdftest.pdf',), value='pdftest.pdf')"
      ]
     },
     "metadata": {},
     "output_type": "display_data"
    },
    {
     "data": {
      "application/vnd.jupyter.widget-view+json": {
       "model_id": "f6ab0af10058465082c860650b56c38c",
       "version_major": 2,
       "version_minor": 0
      },
      "text/plain": [
       "Text(value='', description='Keyword 1')"
      ]
     },
     "metadata": {},
     "output_type": "display_data"
    },
    {
     "data": {
      "application/vnd.jupyter.widget-view+json": {
       "model_id": "99cbd8f5da824004b710ee31e8361929",
       "version_major": 2,
       "version_minor": 0
      },
      "text/plain": [
       "Text(value='', description='Keyword 2')"
      ]
     },
     "metadata": {},
     "output_type": "display_data"
    },
    {
     "data": {
      "application/vnd.jupyter.widget-view+json": {
       "model_id": "2b46aafddec841ce98b87f017f1ba00c",
       "version_major": 2,
       "version_minor": 0
      },
      "text/plain": [
       "Text(value='', description='Keyword 3')"
      ]
     },
     "metadata": {},
     "output_type": "display_data"
    },
    {
     "data": {
      "application/vnd.jupyter.widget-view+json": {
       "model_id": "d259c0e5ce14459ab997b08bd9ab0db7",
       "version_major": 2,
       "version_minor": 0
      },
      "text/plain": [
       "Text(value='', description='Keyword 4')"
      ]
     },
     "metadata": {},
     "output_type": "display_data"
    },
    {
     "data": {
      "application/vnd.jupyter.widget-view+json": {
       "model_id": "8c9582c4e4a64afbaf30fce48cba0d44",
       "version_major": 2,
       "version_minor": 0
      },
      "text/plain": [
       "Button(description='Submit', style=ButtonStyle())"
      ]
     },
     "metadata": {},
     "output_type": "display_data"
    },
    {
     "data": {
      "application/vnd.jupyter.widget-view+json": {
       "model_id": "9e5896c4d0fd4c03bc49dbe754eac779",
       "version_major": 2,
       "version_minor": 0
      },
      "text/plain": [
       "Output()"
      ]
     },
     "metadata": {},
     "output_type": "display_data"
    },
    {
     "data": {
      "application/vnd.jupyter.widget-view+json": {
       "model_id": "1572751a85784bcc8dd8a400afdccaba",
       "version_major": 2,
       "version_minor": 0
      },
      "text/plain": [
       "Output()"
      ]
     },
     "metadata": {},
     "output_type": "display_data"
    },
    {
     "data": {
      "application/vnd.jupyter.widget-view+json": {
       "model_id": "0eba66b987964228b804b3538c521a76",
       "version_major": 2,
       "version_minor": 0
      },
      "text/plain": [
       "Output()"
      ]
     },
     "metadata": {},
     "output_type": "display_data"
    },
    {
     "data": {
      "application/vnd.jupyter.widget-view+json": {
       "model_id": "ca25fa6155354d4b9b0bd9300e2d3532",
       "version_major": 2,
       "version_minor": 0
      },
      "text/plain": [
       "Output()"
      ]
     },
     "metadata": {},
     "output_type": "display_data"
    }
   ],
   "source": [
    "# Đoạn code không phân biệt chữ hoa và chữ thường và tính dính liền ( Đếm keyword tiếng anh )\n",
    "import re\n",
    "from pdfminer.high_level import extract_text\n",
    "from ipywidgets import interact, widgets\n",
    "from IPython.display import display\n",
    "\n",
    "def find_and_count_keyword_in_pdf(pdf_file, keyword):\n",
    "    count = 0\n",
    "\n",
    "    with open(pdf_file, 'rb') as file:\n",
    "        text = extract_text(file)\n",
    "        pattern = re.compile(re.escape(keyword), re.IGNORECASE)\n",
    "        count = len(pattern.findall(text))\n",
    "    \n",
    "    return count\n",
    "\n",
    "pdf_files = [\"pdftest.pdf\"]\n",
    "\n",
    "pdf_file_dropdown = widgets.Dropdown(options=pdf_files, description='Select PDF File')\n",
    "keyword_text_1 = widgets.Text(description='Keyword 1')\n",
    "keyword_text_2 = widgets.Text(description='Keyword 2')\n",
    "keyword_text_3 = widgets.Text(description='Keyword 3')\n",
    "keyword_text_4 = widgets.Text(description='Keyword 4')\n",
    "submit_button = widgets.Button(description='Submit')\n",
    "result_output_1 = widgets.Output()\n",
    "result_output_2 = widgets.Output()\n",
    "result_output_3 = widgets.Output()\n",
    "result_output_4 = widgets.Output()\n",
    "\n",
    "def on_submit_clicked(b):\n",
    "    keyword_1 = keyword_text_1.value\n",
    "    keyword_2 = keyword_text_2.value\n",
    "    keyword_3 = keyword_text_3.value\n",
    "    keyword_4 = keyword_text_4.value\n",
    "    pdf_file = pdf_file_dropdown.value\n",
    "    word_count_1 = find_and_count_keyword_in_pdf(pdf_file, keyword_1)\n",
    "    word_count_2 = find_and_count_keyword_in_pdf(pdf_file, keyword_2)\n",
    "    word_count_3 = find_and_count_keyword_in_pdf(pdf_file, keyword_3)\n",
    "    word_count_4 = find_and_count_keyword_in_pdf(pdf_file, keyword_4)\n",
    "    with result_output_1:\n",
    "        result_output_1.clear_output()\n",
    "        if word_count_1 > 0:\n",
    "            print(f\"Cụm từ '{keyword_1}' xuất hiện {word_count_1} lần trong PDF: {pdf_file}\")\n",
    "        else:\n",
    "            print(f\"Cụm từ '{keyword_1}' không được tìm thấy trong PDF: {pdf_file}\")\n",
    "        \n",
    "    with result_output_2:\n",
    "        result_output_2.clear_output()\n",
    "        if word_count_2 > 0:\n",
    "            print(f\"Cụm từ '{keyword_2}' xuất hiện {word_count_2} lần trong PDF: {pdf_file}\")\n",
    "        else:\n",
    "            print(f\"Cụm từ '{keyword_2}' không được tìm thấy trong PDF: {pdf_file}\")\n",
    "    with result_output_3:\n",
    "        result_output_3.clear_output()\n",
    "        if word_count_3 > 0:\n",
    "            print(f\"Cụm từ '{keyword_3}' xuất hiện {word_count_3} lần trong PDF: {pdf_file}\")\n",
    "        else:\n",
    "            print(f\"Cụm từ '{keyword_3}' không được tìm thấy trong PDF: {pdf_file}\")  \n",
    "    with result_output_4:\n",
    "        result_output_4.clear_output()\n",
    "        if word_count_4 > 0:\n",
    "            print(f\"Cụm từ '{keyword_4}' xuất hiện {word_count_4} lần trong PDF: {pdf_file}\")\n",
    "        else:\n",
    "            print(f\"Cụm từ '{keyword_4}' không được tìm thấy trong PDF: {pdf_file}\")   \n",
    "submit_button.on_click(on_submit_clicked)\n",
    "\n",
    "display(pdf_file_dropdown, keyword_text_1, keyword_text_2, keyword_text_3,keyword_text_4, submit_button)\n",
    "display(result_output_1)\n",
    "display(result_output_2)\n",
    "display(result_output_3)\n",
    "display(result_output_4)"
   ]
  },
  {
   "cell_type": "code",
   "execution_count": 6,
   "metadata": {},
   "outputs": [
    {
     "name": "stdout",
     "output_type": "stream",
     "text": [
      "File: CAG_Baocaothuongnien_2018.pdf\n",
      "Cụm từ 'Nhan su' xuất hiện 0 lần.\n",
      "\n",
      "\n"
     ]
    }
   ],
   "source": [
    "# Đoạn code không phân biệt chữ hoa và chữ thường và tính dính liền ( Đếm keyword tiếng việt )\n",
    "from pdfminer.high_level import extract_text\n",
    "from unidecode import unidecode\n",
    "\n",
    "pdf_files = [\"CAG_Baocaothuongnien_2018.pdf\"]\n",
    "pdf_file = [\"CAG_Baocaothuongnien_2018.pdf\"]\n",
    "def find_and_count_keyword_in_pdf(pdf_file, keywords):\n",
    "    count = 0\n",
    "\n",
    "    with open(pdf_file, 'rb') as file:\n",
    "        text = extract_text(file)\n",
    "        for keyword in keywords:\n",
    "            keyword_no_diacritics = unidecode(keyword)\n",
    "            pattern = re.compile(r'\\b' + re.escape(keyword_no_diacritics) + r'\\b', re.IGNORECASE)\n",
    "            count += len(pattern.findall(text, re.IGNORECASE))\n",
    "    \n",
    "    return count\n",
    "\n",
    "# Sử dụng thư viện unidecode\n",
    "keywords_to_search = [\"Nhan su\"]\n",
    "\n",
    "# Lặp qua từng file và in số lần xuất hiện của từng keyword\n",
    "for pdf_file in pdf_files:\n",
    "    word_counts = [find_and_count_keyword_in_pdf(pdf_file, [keyword]) for keyword in keywords_to_search]\n",
    "    \n",
    "    print(f\"File: {pdf_file}\")\n",
    "    for keyword, count in zip(keywords_to_search, word_counts):\n",
    "        print(f\"Cụm từ '{keyword}' xuất hiện {count} lần.\")\n",
    "    print(\"\\n\")\n",
    "\n"
   ]
  },
  {
   "cell_type": "code",
   "execution_count": 2,
   "metadata": {},
   "outputs": [],
   "source": [
    "import cv2\n",
    "import pytesseract \n",
    "\n",
    "pytesseract.pytesseract.tesseract_cmd= \"C:\\\\Program Files\\\\Tesseract-OCR\\\\tesseract.exe\"\n",
    "\n",
    "img = cv2.imread(r\"D:\\\\NCKHDigital\\\\Bia.png\")\n"
   ]
  },
  {
   "cell_type": "code",
   "execution_count": 2,
   "metadata": {},
   "outputs": [
    {
     "name": "stdout",
     "output_type": "stream",
     "text": [
      "ACV %*\n",
      "\n",
      "ỦY BAN QUẢN LÝ VỐN\n",
      "NHÀ NƯỚC TẠI DOANH NGHIỆP\n",
      "TÓNG CÔNG TY\n",
      "CÁNG HÀNG KHÔNG VIỆT NAM - CTCP\n",
      "\n",
      "BÁO CÁO THƯỜNG NIÊN\n",
      "NĂM 2018\n",
      "\n",
      "THÀNH PHÓ HÔ CHÍ MINH, THÁNG 42019\n",
      "\n"
     ]
    }
   ],
   "source": [
    "img = cv2.cvtColor(img, cv2.COLOR_BGR2RGB)\n",
    "text =pytesseract.image_to_string(img, lang=\"vie\")\n",
    "print(text)\n",
    "# cv2.imshow(\"window\", img)\n",
    "# cv2.waitkey(0)\n",
    "# cv2.destroyAllWindows"
   ]
  },
  {
   "cell_type": "code",
   "execution_count": 24,
   "metadata": {},
   "outputs": [],
   "source": [
    "with open(\"dich.txt\", \"a\", encoding=\"utf-8\") as f:\n",
    "    f.writelines(text)"
   ]
  },
  {
   "cell_type": "code",
   "execution_count": 20,
   "metadata": {},
   "outputs": [],
   "source": [
    "import os\n",
    "\n",
    "# Đường dẫn thư mục chứa ảnh\n",
    "folder_path = \"D:\\\\NCKHDigital\\\\BCphotos1\"\n",
    "\n",
    "# Tạo danh sách đường dẫn ảnh từ thư mục\n",
    "image_paths = [os.path.join(folder_path, file) for file in os.listdir(folder_path) if file.lower().endswith(('.png', '.jpg', '.jpeg'))]"
   ]
  },
  {
   "cell_type": "code",
   "execution_count": 21,
   "metadata": {},
   "outputs": [],
   "source": [
    "# Lặp qua từng đường dẫn ảnh\n",
    "for image_path in image_paths:\n",
    "    # Đọc ảnh\n",
    "    img = cv2.imread(image_path)\n",
    "    img = cv2.cvtColor(img, cv2.COLOR_BGR2RGB)\n",
    "    \n",
    "    # Quét văn bản từ ảnh\n",
    "    text = pytesseract.image_to_string(img, lang=\"vie\")\n",
    "    \n",
    "    # Tạo tên file text đầu ra từ tên file ảnh\n",
    "    txt_output_path = f\"{image_path[:-4]}.txt\"\n",
    "\n",
    "    # Ghi kết quả vào file text\n",
    "    with open(txt_output_path, \"a\", encoding=\"utf-8\") as f:\n",
    "        f.writelines(text)"
   ]
  },
  {
   "cell_type": "markdown",
   "metadata": {},
   "source": [
    "# Đoạn code chuyển file pdf sang file ảnh\n"
   ]
  },
  {
   "cell_type": "code",
   "execution_count": 1,
   "metadata": {},
   "outputs": [],
   "source": [
    "# Đoạn code chuyển file pdf sang file ảnh \n",
    "import fitz  # PyMuPDF\n",
    "from PIL import Image\n",
    "\n",
    "def pdf_to_images(pdf_path, output_folder):\n",
    "    # Mở file PDF\n",
    "    pdf_document = fitz.open(pdf_path)\n",
    "\n",
    "    # Lặp qua từng trang và lưu thành ảnh\n",
    "    for page_number in range(pdf_document.page_count):\n",
    "        page = pdf_document.load_page(page_number)\n",
    "        image = page.get_pixmap()\n",
    "\n",
    "        # Chuyển đổi định dạng RGBA sang RGB\n",
    "        image_rgb = Image.frombytes(\"RGB\", [image.width, image.height], image.samples)\n",
    "\n",
    "        # Lưu ảnh dưới dạng JPG\n",
    "        image_rgb.save(f\"{output_folder}/page_{page_number + 1}.jpg\", \"JPEG\")\n",
    "\n",
    "    # Đóng file PDF\n",
    "    pdf_document.close()\n",
    "\n",
    "# Thay đổi đường dẫn file PDF và thư mục đầu ra tùy thuộc vào nhu cầu của bạn\n",
    "pdf_file_path = \"CMP_Baocaothuongnien_2021.pdf\"\n",
    "output_folder_path = \"CMP_Baocaothuongnien_2021 Image\"\n",
    "\n",
    "pdf_to_images(pdf_file_path, output_folder_path)\n"
   ]
  },
  {
   "cell_type": "markdown",
   "metadata": {},
   "source": [
    "# Đoạn code lặp qua từng đường dẫn ảnh và ghi đánh dấu đã xong"
   ]
  },
  {
   "cell_type": "code",
   "execution_count": 2,
   "metadata": {},
   "outputs": [],
   "source": [
    "import os\n",
    "import cv2\n",
    "import pytesseract\n",
    "\n",
    "# Đường dẫn thư mục chứa ảnh\n",
    "folder_path = \"D:\\\\NCKHDigital\\\\CMP_Baocaothuongnien_2021 Image\"\n",
    "\n",
    "# Tạo danh sách đường dẫn ảnh từ thư mục\n",
    "image_paths = [os.path.join(folder_path, file) for file in os.listdir(folder_path) if file.lower().endswith(('.png', '.jpg', '.jpeg'))]\n",
    "\n",
    "# Biến đếm trang\n",
    "current_page = 1\n",
    "\n",
    "# Lặp qua từng đường dẫn ảnh\n",
    "for image_path in image_paths:\n",
    "    # Đọc ảnh\n",
    "    img = cv2.imread(image_path)\n",
    "    img = cv2.cvtColor(img, cv2.COLOR_BGR2RGB)\n",
    "    \n",
    "    # Quét văn bản từ ảnh\n",
    "    text = pytesseract.image_to_string(img, lang=\"vie\")\n",
    "    \n",
    "    # Tạo tên file text đầu ra từ số trang\n",
    "    txt_output_path = f\"{folder_path}\\\\Trang_{current_page}.txt\"\n",
    "\n",
    "    # Ghi kết quả vào file text và đánh dấu trang\n",
    "    with open(txt_output_path, \"a\", encoding=\"utf-8\") as f:\n",
    "        f.write(f\"Đã xong trang {current_page}\\n\")\n",
    "        f.writelines(text)\n",
    "\n",
    "    # Tăng biến đếm trang\n",
    "    current_page += 1\n"
   ]
  },
  {
   "cell_type": "code",
   "execution_count": 5,
   "metadata": {},
   "outputs": [
    {
     "name": "stdout",
     "output_type": "stream",
     "text": [
      "Quá trình kết hợp hoàn tất. Nội dung đã được ghi vào D:\\NCKHDigital\\TXTPVP_Baocaothuongnien_2022\\Combined_Output.txt\n"
     ]
    }
   ],
   "source": [
    "import os\n",
    "\n",
    "# Đường dẫn thư mục chứa các file text\n",
    "folder_path = \"D:\\\\NCKHDigital\\\\PVP_Baocaothuongnien_2022 (1) Image\"\n",
    "\n",
    "# Đường dẫn và tên file tổng hợp\n",
    "output_file_path = \"D:\\\\NCKHDigital\\\\TXTPVP_Baocaothuongnien_2022\\\\Combined_Output.txt\"\n",
    "\n",
    "# Mở file tổng hợp để ghi\n",
    "with open(output_file_path, \"w\", encoding=\"utf-8\") as combined_file:\n",
    "    # Tạo danh sách đường dẫn file text từ thư mục\n",
    "    text_file_paths = [os.path.join(folder_path, file) for file in os.listdir(folder_path) if file.lower().endswith('.txt')]\n",
    "\n",
    "    # Lặp qua từng file text\n",
    "    for text_file_path in text_file_paths:\n",
    "        # Mở và đọc nội dung từ file text\n",
    "        with open(text_file_path, \"r\", encoding=\"utf-8\") as current_file:\n",
    "            file_content = current_file.read()\n",
    "\n",
    "            # Ghi nội dung vào file tổng hợp\n",
    "            combined_file.write(file_content)\n",
    "            combined_file.write(\"\\n\\n\")  # Thêm khoảng trống giữa các file\n",
    "\n",
    "print(\"Quá trình kết hợp hoàn tất. Nội dung đã được ghi vào\", output_file_path)\n"
   ]
  },
  {
   "cell_type": "markdown",
   "metadata": {},
   "source": [
    "# Đoạn code bổ sung đọc từ trong file pdf và ghi vào file txt"
   ]
  },
  {
   "cell_type": "code",
   "execution_count": 1,
   "metadata": {},
   "outputs": [],
   "source": [
    "# Đoạn code đọc file pdf và ghi riêng ra vào một file txt\n",
    "import fitz\n",
    "import os\n",
    "\n",
    "def extract_text_from_pdf(pdf_path, output_folder):\n",
    "    # Mở file PDF\n",
    "    pdf_document = fitz.open(pdf_path)\n",
    "\n",
    "    # Tạo thư mục đầu ra nếu chưa tồn tại\n",
    "    os.makedirs(output_folder, exist_ok=True)\n",
    "\n",
    "    # Lặp qua từng trang và trích xuất văn bản\n",
    "    for page_number in range(pdf_document.page_count):\n",
    "        # Trích xuất nội dung từ trang\n",
    "        page = pdf_document[page_number]\n",
    "        text = page.get_text()\n",
    "\n",
    "        # Tạo tên file text đầu ra từ số trang\n",
    "        txt_output_path = os.path.join(output_folder, f\"Trang_{page_number + 1}.txt\")\n",
    "\n",
    "        # Ghi nội dung vào file text và đánh dấu trang\n",
    "        with open(txt_output_path, \"w\", encoding=\"utf-8\") as txt_file:\n",
    "            txt_file.write(f\"Đã xong trang {page_number + 1}\\n\")\n",
    "            txt_file.write(text)\n",
    "\n",
    "    # Đóng file PDF\n",
    "    pdf_document.close()\n",
    "\n",
    "if __name__ == \"__main__\":\n",
    "    # Đường dẫn tới file PDF\n",
    "    pdf_path = \"CAG_Baocaothuongnien_2018.pdf\"\n",
    "\n",
    "    # Thư mục đầu ra cho các file text\n",
    "    output_folder = \"TXTBaocaothuongnien2018\"\n",
    "\n",
    "    # Gọi hàm để trích xuất và ghi văn bản\n",
    "    extract_text_from_pdf(pdf_path, output_folder)\n"
   ]
  },
  {
   "cell_type": "code",
   "execution_count": 2,
   "metadata": {},
   "outputs": [
    {
     "name": "stdout",
     "output_type": "stream",
     "text": [
      "Quá trình kết hợp hoàn tất. Nội dung đã được ghi vào D:\\NCKHDigital\\TXTBaocaothuongnien2018\\Combined_Output.txt\n"
     ]
    }
   ],
   "source": [
    "import os\n",
    "\n",
    "# Đường dẫn thư mục chứa các file text\n",
    "folder_path = \"D:\\\\NCKHDigital\\\\TXTBaocaothuongnien2018\"\n",
    "\n",
    "# Đường dẫn và tên file tổng hợp\n",
    "output_file_path = \"D:\\\\NCKHDigital\\\\TXTBaocaothuongnien2018\\\\Combined_Output.txt\"\n",
    "\n",
    "# Mở file tổng hợp để ghi\n",
    "with open(output_file_path, \"w\", encoding=\"utf-8\") as combined_file:\n",
    "    # Tạo danh sách đường dẫn file text từ thư mục\n",
    "    text_file_paths = [os.path.join(folder_path, file) for file in os.listdir(folder_path) if file.lower().endswith('.txt')]\n",
    "\n",
    "    # Lặp qua từng file text\n",
    "    for text_file_path in text_file_paths:\n",
    "        # Mở và đọc nội dung từ file text\n",
    "        with open(text_file_path, \"r\", encoding=\"utf-8\") as current_file:\n",
    "            file_content = current_file.read()\n",
    "\n",
    "            # Ghi nội dung vào file tổng hợp\n",
    "            combined_file.write(file_content)\n",
    "            combined_file.write(\"\\n\\n\")  # Thêm khoảng trống giữa các file\n",
    "\n",
    "print(\"Quá trình kết hợp hoàn tất. Nội dung đã được ghi vào\", output_file_path)\n"
   ]
  },
  {
   "cell_type": "markdown",
   "metadata": {},
   "source": [
    "# Giải thuật search keyword tiếng việt theo cách Match whole word và đếm trong file txt"
   ]
  },
  {
   "cell_type": "code",
   "execution_count": 1,
   "metadata": {},
   "outputs": [
    {
     "data": {
      "application/vnd.jupyter.widget-view+json": {
       "model_id": "0bd25e5ae4cd439c8a69950081e7b8ba",
       "version_major": 2,
       "version_minor": 0
      },
      "text/plain": [
       "Dropdown(description='Select TXT File', options=('dich.txt',), value='dich.txt')"
      ]
     },
     "metadata": {},
     "output_type": "display_data"
    },
    {
     "data": {
      "application/vnd.jupyter.widget-view+json": {
       "model_id": "74aea3216f5a4e98903913e66e51f11a",
       "version_major": 2,
       "version_minor": 0
      },
      "text/plain": [
       "Text(value='', description='Keyword 1')"
      ]
     },
     "metadata": {},
     "output_type": "display_data"
    },
    {
     "data": {
      "application/vnd.jupyter.widget-view+json": {
       "model_id": "49b036fc529b42d5b4292d61bbafb14e",
       "version_major": 2,
       "version_minor": 0
      },
      "text/plain": [
       "Text(value='', description='Keyword 2')"
      ]
     },
     "metadata": {},
     "output_type": "display_data"
    },
    {
     "data": {
      "application/vnd.jupyter.widget-view+json": {
       "model_id": "bccdf3bfc73244119d7acdeb2ef274a7",
       "version_major": 2,
       "version_minor": 0
      },
      "text/plain": [
       "Text(value='', description='Keyword 3')"
      ]
     },
     "metadata": {},
     "output_type": "display_data"
    },
    {
     "data": {
      "application/vnd.jupyter.widget-view+json": {
       "model_id": "12a50cd0ceb046248f0c0264b8a69209",
       "version_major": 2,
       "version_minor": 0
      },
      "text/plain": [
       "Text(value='', description='Keyword 4')"
      ]
     },
     "metadata": {},
     "output_type": "display_data"
    },
    {
     "data": {
      "application/vnd.jupyter.widget-view+json": {
       "model_id": "f7c5efc0df634e8a8bbc11e7fe4e97cb",
       "version_major": 2,
       "version_minor": 0
      },
      "text/plain": [
       "Button(description='Submit', style=ButtonStyle())"
      ]
     },
     "metadata": {},
     "output_type": "display_data"
    },
    {
     "data": {
      "application/vnd.jupyter.widget-view+json": {
       "model_id": "b075671b29394dfa92e3d7d0c9fd8bee",
       "version_major": 2,
       "version_minor": 0
      },
      "text/plain": [
       "Output()"
      ]
     },
     "metadata": {},
     "output_type": "display_data"
    },
    {
     "data": {
      "application/vnd.jupyter.widget-view+json": {
       "model_id": "f2b7cf26c84640e2ba00c7301fdef842",
       "version_major": 2,
       "version_minor": 0
      },
      "text/plain": [
       "Output()"
      ]
     },
     "metadata": {},
     "output_type": "display_data"
    },
    {
     "data": {
      "application/vnd.jupyter.widget-view+json": {
       "model_id": "271771e2aa3d4af5a20ffef868805807",
       "version_major": 2,
       "version_minor": 0
      },
      "text/plain": [
       "Output()"
      ]
     },
     "metadata": {},
     "output_type": "display_data"
    },
    {
     "data": {
      "application/vnd.jupyter.widget-view+json": {
       "model_id": "9a808d6550724d53a5a0b0d08d6ff2c7",
       "version_major": 2,
       "version_minor": 0
      },
      "text/plain": [
       "Output()"
      ]
     },
     "metadata": {},
     "output_type": "display_data"
    }
   ],
   "source": [
    "import re\n",
    "from ipywidgets import interact, widgets\n",
    "from IPython.display import display, clear_output\n",
    "\n",
    "def count_word_occurrences(file_path, target_words):\n",
    "    # Đọc nội dung từ file\n",
    "    try:\n",
    "        with open(file_path, 'r', encoding='utf-8') as file:\n",
    "            content = file.read()\n",
    "    except FileNotFoundError:\n",
    "        return f\"File not found: {file_path}\"\n",
    "    except Exception as e:\n",
    "        return f\"An error occurred: {e}\"\n",
    "\n",
    "    # Chuyển cả nội dung thành chữ thường\n",
    "    content_lower = content.lower()\n",
    "\n",
    "    # Tạo danh sách các kết quả đếm\n",
    "    occurrences = {}\n",
    "\n",
    "    for target_word in target_words:\n",
    "        # Chuyển từ cần tìm thành chữ thường\n",
    "        target_word_lower = target_word.lower()\n",
    "\n",
    "        # Sử dụng biểu thức chính quy để tìm kiếm từ theo kiểu \"match whole word\"\n",
    "        pattern = re.compile(r'\\b{}\\b'.format(re.escape(target_word_lower)))\n",
    "\n",
    "        # Tìm kiếm và đếm số lần xuất hiện của từ\n",
    "        count = len(re.findall(pattern, content_lower))\n",
    "\n",
    "        # Thêm kết quả vào danh sách\n",
    "        occurrences[target_word] = count\n",
    "\n",
    "    return occurrences\n",
    "\n",
    "# Giao diện tìm kiếm\n",
    "txt_files = [\"dich.txt\"]\n",
    "\n",
    "txt_file_dropdown = widgets.Dropdown(options=txt_files, description='Select TXT File')\n",
    "keyword_texts = [widgets.Text(description=f'Keyword {i+1}') for i in range(4)]\n",
    "submit_button = widgets.Button(description='Submit')\n",
    "result_outputs = [widgets.Output() for _ in range(4)]\n",
    "\n",
    "def on_submit_clicked(b):\n",
    "    txt_file = txt_file_dropdown.value\n",
    "    keywords = [keyword_text.value for keyword_text in keyword_texts]\n",
    "    count_results = count_word_occurrences(txt_file, keywords)\n",
    "    \n",
    "    for i, result_output in enumerate(result_outputs):\n",
    "        with result_output:\n",
    "            result_output.clear_output()\n",
    "            keyword = keywords[i]\n",
    "            count = count_results[keyword]\n",
    "            if count > 0:\n",
    "                print(f\"Cụm từ '{keyword}' xuất hiện {count} lần trong file: {txt_file}\")\n",
    "            else:\n",
    "                print(f\"Cụm từ '{keyword}' không được tìm thấy trong file: {txt_file}\")\n",
    "\n",
    "submit_button.on_click(on_submit_clicked)\n",
    "\n",
    "# Hiển thị giao diện\n",
    "display(txt_file_dropdown, *keyword_texts, submit_button, *result_outputs)\n"
   ]
  },
  {
   "cell_type": "markdown",
   "metadata": {},
   "source": [
    "# Giải thuật search keyword tiếng việt theo cách Match whole word và đếm trong file pdf"
   ]
  },
  {
   "cell_type": "code",
   "execution_count": 1,
   "metadata": {},
   "outputs": [
    {
     "data": {
      "application/vnd.jupyter.widget-view+json": {
       "model_id": "925bfd85f0704cc6be99666be11535b5",
       "version_major": 2,
       "version_minor": 0
      },
      "text/plain": [
       "Dropdown(description='Select PDF File', options=('CAG_Baocaothuongnien_2018.pdf', 'ACV_Baocaothuongnien_2019.p…"
      ]
     },
     "metadata": {},
     "output_type": "display_data"
    },
    {
     "data": {
      "application/vnd.jupyter.widget-view+json": {
       "model_id": "fc1a812cf7424d519f01a22a599de4ae",
       "version_major": 2,
       "version_minor": 0
      },
      "text/plain": [
       "Text(value='', description='Keyword 1')"
      ]
     },
     "metadata": {},
     "output_type": "display_data"
    },
    {
     "data": {
      "application/vnd.jupyter.widget-view+json": {
       "model_id": "228010f550074341a75840a2e26a3dc8",
       "version_major": 2,
       "version_minor": 0
      },
      "text/plain": [
       "Text(value='', description='Keyword 2')"
      ]
     },
     "metadata": {},
     "output_type": "display_data"
    },
    {
     "data": {
      "application/vnd.jupyter.widget-view+json": {
       "model_id": "35604a1c250846da8226cd60b944075f",
       "version_major": 2,
       "version_minor": 0
      },
      "text/plain": [
       "Text(value='', description='Keyword 3')"
      ]
     },
     "metadata": {},
     "output_type": "display_data"
    },
    {
     "data": {
      "application/vnd.jupyter.widget-view+json": {
       "model_id": "12f86c3bb2a84b6e87336e106004132b",
       "version_major": 2,
       "version_minor": 0
      },
      "text/plain": [
       "Text(value='', description='Keyword 4')"
      ]
     },
     "metadata": {},
     "output_type": "display_data"
    },
    {
     "data": {
      "application/vnd.jupyter.widget-view+json": {
       "model_id": "13522cc2693443ea8470ae157ef428ad",
       "version_major": 2,
       "version_minor": 0
      },
      "text/plain": [
       "Button(description='Submit', style=ButtonStyle())"
      ]
     },
     "metadata": {},
     "output_type": "display_data"
    },
    {
     "data": {
      "application/vnd.jupyter.widget-view+json": {
       "model_id": "9bf9e8b011f14f9a882dae776c4d9166",
       "version_major": 2,
       "version_minor": 0
      },
      "text/plain": [
       "Output()"
      ]
     },
     "metadata": {},
     "output_type": "display_data"
    },
    {
     "data": {
      "application/vnd.jupyter.widget-view+json": {
       "model_id": "8fdcd25258ff49cc88e9a355b20b9020",
       "version_major": 2,
       "version_minor": 0
      },
      "text/plain": [
       "Output()"
      ]
     },
     "metadata": {},
     "output_type": "display_data"
    },
    {
     "data": {
      "application/vnd.jupyter.widget-view+json": {
       "model_id": "1ed94914c6af447ab5ddec0a06c45cd2",
       "version_major": 2,
       "version_minor": 0
      },
      "text/plain": [
       "Output()"
      ]
     },
     "metadata": {},
     "output_type": "display_data"
    },
    {
     "data": {
      "application/vnd.jupyter.widget-view+json": {
       "model_id": "21791ca90ce445f28d8811d9432252e4",
       "version_major": 2,
       "version_minor": 0
      },
      "text/plain": [
       "Output()"
      ]
     },
     "metadata": {},
     "output_type": "display_data"
    }
   ],
   "source": [
    "import re\n",
    "from pdfminer.high_level import extract_text\n",
    "from ipywidgets import interact, widgets\n",
    "from IPython.display import display, clear_output\n",
    "\n",
    "def count_word_occurrences(file_path, target_words):\n",
    "    # Đọc nội dung từ file\n",
    "    with open(file_path, 'rb') as file:\n",
    "        text = extract_text(file)\n",
    "\n",
    "    # Chuyển cả nội dung thành chữ thường\n",
    "    content_lower = text.lower()\n",
    "\n",
    "    # Tạo danh sách các kết quả đếm\n",
    "    occurrences = {}\n",
    "\n",
    "    for target_word in target_words:\n",
    "        # Chuyển từ cần tìm thành chữ thường\n",
    "        target_word_lower = target_word.lower()\n",
    "\n",
    "        # Sử dụng biểu thức chính quy để tìm kiếm từ theo kiểu \"match whole word\"\n",
    "        pattern = re.compile(r'\\b{}\\b'.format(re.escape(target_word_lower)))\n",
    "\n",
    "        # Tìm kiếm và đếm số lần xuất hiện của từ\n",
    "        count = len(re.findall(pattern, content_lower))\n",
    "\n",
    "        # Thêm kết quả vào danh sách\n",
    "        occurrences[target_word] = count\n",
    "\n",
    "    return occurrences\n",
    "\n",
    "# Giao diện tìm kiếm\n",
    "pdf_files = [\"CAG_Baocaothuongnien_2018.pdf\",\"ACV_Baocaothuongnien_2019.pdf\"]\n",
    "\n",
    "pdf_file_dropdown = widgets.Dropdown(options=pdf_files, description='Select PDF File')\n",
    "keyword_texts = [widgets.Text(description=f'Keyword {i+1}') for i in range(4)]\n",
    "submit_button = widgets.Button(description='Submit')\n",
    "result_outputs = [widgets.Output() for _ in range(4)]\n",
    "\n",
    "def on_submit_clicked(b):\n",
    "    pdf_file = pdf_file_dropdown.value\n",
    "    keywords = [keyword_text.value for keyword_text in keyword_texts]\n",
    "    count_results = count_word_occurrences(pdf_file, keywords)\n",
    "    \n",
    "    for i, result_output in enumerate(result_outputs):\n",
    "        with result_output:\n",
    "            result_output.clear_output()\n",
    "            keyword = keywords[i]\n",
    "            count = count_results[keyword]\n",
    "            if count > 0:\n",
    "                print(f\"Cụm từ '{keyword}' xuất hiện {count} lần trong PDF: {pdf_file}\")\n",
    "            else:\n",
    "                print(f\"Cụm từ '{keyword}' không được tìm thấy trong PDF: {pdf_file}\")\n",
    "\n",
    "submit_button.on_click(on_submit_clicked)\n",
    "\n",
    "# Hiển thị giao diện\n",
    "display(pdf_file_dropdown, *keyword_texts, submit_button, *result_outputs)\n"
   ]
  },
  {
   "cell_type": "code",
   "execution_count": 7,
   "metadata": {},
   "outputs": [],
   "source": [
    "from PIL import Image\n",
    "import glob\n",
    "\n",
    "image_counter = 1\n",
    "images = glob.glob(\"D:/NCKHDigital/PVP_Baocaothuongnien_2022 Image/*.jpg\")\n",
    "image_counter = 1\n",
    "for image in images:\n",
    "    img = Image.open(image)\n",
    "    rotated = img .rotate(0.9)\n",
    "    filename = \"./RotatedImaged/rotate\" + str(image_counter)+ \".jpg\"\n",
    "    rotated.save(filename, \"JPEG\")\n",
    "    \n",
    "    image_counter  = image_counter + 1\n"
   ]
  }
 ],
 "metadata": {
  "kernelspec": {
   "display_name": "base",
   "language": "python",
   "name": "python3"
  },
  "language_info": {
   "codemirror_mode": {
    "name": "ipython",
    "version": 3
   },
   "file_extension": ".py",
   "mimetype": "text/x-python",
   "name": "python",
   "nbconvert_exporter": "python",
   "pygments_lexer": "ipython3",
   "version": "3.9.12"
  }
 },
 "nbformat": 4,
 "nbformat_minor": 2
}
