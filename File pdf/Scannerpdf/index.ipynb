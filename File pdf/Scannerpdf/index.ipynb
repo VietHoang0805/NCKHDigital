{
 "cells": [
  {
   "cell_type": "code",
   "execution_count": 20,
   "metadata": {},
   "outputs": [],
   "source": [
    "from PyPDF2 import PdfReader, PdfWriter\n",
    "\n",
    "def rotate_pdf(input_path, output_path):\n",
    "    pdf_reader = PdfReader(input_path)\n",
    "    pdf_writer = PdfWriter()\n",
    "\n",
    "    for page_number in range(len(pdf_reader.pages)):\n",
    "        page = pdf_reader.pages[page_number]\n",
    "        \n",
    "        # Tạo trang mới với kích thước của trang cũ\n",
    "        new_page = pdf_writer.add_blank_page(width=page.mediabox.width, height=page.mediabox.height)\n",
    "        \n",
    "        # Xoay nội dung của trang và chép vào trang mới\n",
    "        new_page.merge_page(page)\n",
    "        new_page.rotate()  # Điều chỉnh góc xoay theo nhu cầu\n",
    "\n",
    "    with open(output_path, 'wb') as output_file:\n",
    "        pdf_writer.write(output_file)\n",
    "\n",
    "if __name__ == \"__main__\":\n",
    "    input_pdf_path = \"D:\\\\NCKHDigital\\\\Scannerpdf\\\\ILB_Bao cao thuong nien 2020.pdf\"\n",
    "    output_pdf_path = \"D:\\\\NCKHDigital\\\\Scannerpdf\\\\Fixedpdf\\\\fixed.pdf\"\n",
    "\n",
    "    rotate_pdf(input_pdf_path, output_pdf_path)\n"
   ]
  },
  {
   "cell_type": "code",
   "execution_count": 3,
   "metadata": {},
   "outputs": [
    {
     "name": "stderr",
     "output_type": "stream",
     "text": [
      "[INFO] Start to convert ILB_Bao cao thuong nien 2020.pdf\n",
      "[INFO] \u001b[1;36m[1/4] Opening document...\u001b[0m\n",
      "[INFO] \u001b[1;36m[2/4] Analyzing document...\u001b[0m\n",
      "[WARNING] Words count: 0. It might be a scanned pdf, which is not supported yet.\n",
      "[INFO] \u001b[1;36m[3/4] Parsing pages...\u001b[0m\n",
      "[INFO] (1/4) Page 1\n",
      "[INFO] (2/4) Page 2\n",
      "[INFO] (3/4) Page 3\n",
      "[INFO] (4/4) Page 4\n",
      "[INFO] \u001b[1;36m[4/4] Creating pages...\u001b[0m\n",
      "[INFO] (1/4) Page 1\n",
      "[INFO] (2/4) Page 2\n",
      "[INFO] (3/4) Page 3\n",
      "[INFO] (4/4) Page 4\n",
      "[INFO] Terminated in 0.81s.\n"
     ]
    }
   ],
   "source": [
    "from pdf2docx import Converter, parse\n",
    "pdf_file = \"ILB_Bao cao thuong nien 2020.pdf\"\n",
    "word_file = \"demo.docx\"\n",
    "\n",
    "# Convertor Method\n",
    "cv = Converter(pdf_file)\n",
    "cv.convert(word_file, start = 0, end = 4)\n",
    "cv.close()"
   ]
  },
  {
   "cell_type": "code",
   "execution_count": 12,
   "metadata": {},
   "outputs": [
    {
     "name": "stdout",
     "output_type": "stream",
     "text": [
      "Bạn: Cho tôi hỏi những thông tin này có thể đánh giá con người này sao ạ\n",
      "Họ tên: Hoàng Lê Mai Phương\n",
      "Năm sinh: 2004 Giáp Thân\n",
      "Tháng sinh: 7 (5) Canh Ngọ\n",
      "Ngày sinh: 6 (19) Bình Tuất\n",
      "Giờ sinh: 10 giờ 30 phút (Quý Tỵ)\n",
      "Âm dương: Dương Nữ (Nghịch lý)\n",
      "Bản mệnh: Tuyền Trung Thủy (Nước dòng suối)\n",
      "Cục mệnh: Thủy nhị cục (Cục Thủy bình hòa Mệnh Thủy)\n",
      "Chủ mệnh: Liêm trinh\n",
      "Chủ thân: Thiên lương\n",
      "Cân lượng: 3 lượng 1 chỉ\n",
      "Lại nhân: cung Tử tức\n",
      "Năm xem: 2024 (Giáp Thìn)\n",
      "Tháng xem: 2 (Đinh Mão)\n",
      "\n",
      "Chat bot bé mèo: Sau đây là thông tin tôi có thể phân tích được :\n",
      "1. Tuổi và năm sinh: Sinh năm 2004, năm Giáp Thân. Điều này cho thấy người này hiện đang 20 tuổi (2024 - 2004 = 20). Năm sinh theo Can Chi là năm Giáp Thân, tương ứng với một số đặc điểm tính cách và sự kiên nhẫn.\n",
      "2. Tháng sinh và ngày sinh: Sinh vào tháng 7 dương lịch và ngày 6 dương lịch. Điều này có thể ảnh hưởng đến tính cách và sự kiên nhẫn của người này.\n",
      "3. Giờ sinh: Sinh vào 10 giờ 30 phút, thuộc cung Quý Tỵ. Giờ sinh cũng có thể ảnh hưởng đến tính cách và sự sống cần cù, kiên nhẫn của người này.\n",
      "4. Âm dương: Là Dương Nữ (Nghịch lý). Điều này có thể tạo ra một sự đa dạng, phức tạp trong tính cách của người này.\n",
      "5. Bản mệnh và cục mệnh: Bản mệnh là Tuyền Trung Thủy (Nước dòng suối), cục mệnh là Thủy nhị cục (Cục Thủy bình hòa Mệnh Thủy). Điều này có thể cho thấy người này có tính cách thích hòa hợp, linh hoạt và sáng tạo.\n",
      "6. Chủ mệnh và chủ thân: Chủ mệnh là Liêm trinh, chủ thân là Thiên lương. Điều này có thể ảnh hưởng đến sự định hình và phát triển của người này trong cuộc sống.\n",
      "7. Cân lượng: Cân lượng là 3 lượng 1 chỉ, đây là một thông tin về cân nặng có thể ảnh hưởng đến sức khỏe và cân đối trong cuộc sống hàng ngày.\n",
      "8. Lại nhân: Lại nhân là cung Tử tức. Điều này cũng có thể tạo ra một số ảnh hưởng đối với tính cách và sự kiên nhẫn của người này.\n"
     ]
    }
   ],
   "source": [
    "print(\"Bạn: Cho tôi hỏi những thông tin này có thể đánh giá con người này sao ạ\")\n",
    "thong_tin = {\n",
    "    \"Họ tên\": \"Hoàng Lê Mai Phương\",\n",
    "    \"Năm sinh\": \"2004 Giáp Thân\",\n",
    "    \"Tháng sinh\": \"7 (5) Canh Ngọ\",\n",
    "    \"Ngày sinh\": \"6 (19) Bình Tuất\",\n",
    "    \"Giờ sinh\": \"10 giờ 30 phút (Quý Tỵ)\",\n",
    "    \"Âm dương\": \"Dương Nữ (Nghịch lý)\",\n",
    "    \"Bản mệnh\": \"Tuyền Trung Thủy (Nước dòng suối)\",\n",
    "    \"Cục mệnh\": \"Thủy nhị cục (Cục Thủy bình hòa Mệnh Thủy)\",\n",
    "    \"Chủ mệnh\": \"Liêm trinh\",\n",
    "    \"Chủ thân\": \"Thiên lương\",\n",
    "    \"Cân lượng\": \"3 lượng 1 chỉ\",\n",
    "    \"Lại nhân\": \"cung Tử tức\",\n",
    "    \"Năm xem\": \"2024 (Giáp Thìn)\",\n",
    "    \"Tháng xem\": \"2 (Đinh Mão)\"\n",
    "}\n",
    "\n",
    "for key, value in thong_tin.items():\n",
    "    print(f\"{key}: {value}\")\n",
    "print(\"\\nChat bot bé mèo: Sau đây là thông tin tôi có thể phân tích được :\")\n",
    "print(\"1. Tuổi và năm sinh: Sinh năm 2004, năm Giáp Thân. Điều này cho thấy người này hiện đang 20 tuổi (2024 - 2004 = 20). Năm sinh theo Can Chi là năm Giáp Thân, tương ứng với một số đặc điểm tính cách và sự kiên nhẫn.\")\n",
    "print(\"2. Tháng sinh và ngày sinh: Sinh vào tháng 7 dương lịch và ngày 6 dương lịch. Điều này có thể ảnh hưởng đến tính cách và sự kiên nhẫn của người này.\")\n",
    "print(\"3. Giờ sinh: Sinh vào 10 giờ 30 phút, thuộc cung Quý Tỵ. Giờ sinh cũng có thể ảnh hưởng đến tính cách và sự sống cần cù, kiên nhẫn của người này.\")\n",
    "print(\"4. Âm dương: Là Dương Nữ (Nghịch lý). Điều này có thể tạo ra một sự đa dạng, phức tạp trong tính cách của người này.\")\n",
    "print(\"5. Bản mệnh và cục mệnh: Bản mệnh là Tuyền Trung Thủy (Nước dòng suối), cục mệnh là Thủy nhị cục (Cục Thủy bình hòa Mệnh Thủy). Điều này có thể cho thấy người này có tính cách thích hòa hợp, linh hoạt và sáng tạo.\")\n",
    "print(\"6. Chủ mệnh và chủ thân: Chủ mệnh là Liêm trinh, chủ thân là Thiên lương. Điều này có thể ảnh hưởng đến sự định hình và phát triển của người này trong cuộc sống.\")\n",
    "print(\"7. Cân lượng: Cân lượng là 3 lượng 1 chỉ, đây là một thông tin về cân nặng có thể ảnh hưởng đến sức khỏe và cân đối trong cuộc sống hàng ngày.\")\n",
    "print(\"8. Lại nhân: Lại nhân là cung Tử tức. Điều này cũng có thể tạo ra một số ảnh hưởng đối với tính cách và sự kiên nhẫn của người này.\")\n"
   ]
  }
 ],
 "metadata": {
  "kernelspec": {
   "display_name": "base",
   "language": "python",
   "name": "python3"
  },
  "language_info": {
   "codemirror_mode": {
    "name": "ipython",
    "version": 3
   },
   "file_extension": ".py",
   "mimetype": "text/x-python",
   "name": "python",
   "nbconvert_exporter": "python",
   "pygments_lexer": "ipython3",
   "version": "3.9.18"
  }
 },
 "nbformat": 4,
 "nbformat_minor": 2
}
