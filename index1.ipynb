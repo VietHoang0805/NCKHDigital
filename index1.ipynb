{
 "cells": [
  {
   "cell_type": "code",
   "execution_count": 4,
   "metadata": {},
   "outputs": [],
   "source": [
    "import cv2\n",
    "import numpy as np\n",
    "import os"
   ]
  },
  {
   "cell_type": "code",
   "execution_count": 8,
   "metadata": {},
   "outputs": [],
   "source": [
    "import cv2\n",
    "import numpy as np\n",
    "\n",
    "def straighten_image(input_image_path, output_image_path):\n",
    "    # Đọc ảnh\n",
    "    img = cv2.imread(input_image_path)\n",
    "\n",
    "    # Chuyển ảnh sang đen trắng\n",
    "    gray = cv2.cvtColor(img, cv2.COLOR_BGR2GRAY)\n",
    "\n",
    "    # Phát hiện các đường biên trong ảnh\n",
    "    edges = cv2.Canny(gray, 50, 150, apertureSize=3)\n",
    "\n",
    "    # Tìm các đoạn thẳng trong ảnh\n",
    "    lines = cv2.HoughLines(edges, 1, np.pi / 180, threshold=100)\n",
    "\n",
    "    # Tính góc trung bình của các đoạn thẳng\n",
    "    angles = [line[0][1] for line in lines]\n",
    "    median_angle = np.median(angles)\n",
    "\n",
    "    # Xoay ảnh để làm thẳng\n",
    "    rotated_img = cv2.warpAffine(img, cv2.getRotationMatrix2D((img.shape[1] / 2, img.shape[0] / 2), median_angle * 180 / np.pi, 1), (img.shape[1], img.shape[0]))\n",
    "\n",
    "    # Lưu ảnh đã chỉnh sửa\n",
    "    cv2.imwrite(output_image_path, rotated_img)\n",
    "\n",
    "# Gọi hàm và chỉ định đường dẫn của ảnh đầu vào và ảnh xuất ra\n",
    "input_image_path = 'D:\\\\NCKHDigital\\\\BCphotosstraight\\\\0002.jpg'\n",
    "output_image_path = 'D:\\\\NCKHDigital\\\\BCphotosstraight\\\\0002straighted.jpg'\n",
    "straighten_image(input_image_path, output_image_path)\n"
   ]
  }
 ],
 "metadata": {
  "kernelspec": {
   "display_name": "Python 3",
   "language": "python",
   "name": "python3"
  },
  "language_info": {
   "codemirror_mode": {
    "name": "ipython",
    "version": 3
   },
   "file_extension": ".py",
   "mimetype": "text/x-python",
   "name": "python",
   "nbconvert_exporter": "python",
   "pygments_lexer": "ipython3",
   "version": "3.9.12"
  }
 },
 "nbformat": 4,
 "nbformat_minor": 2
}
