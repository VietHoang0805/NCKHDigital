{
 "cells": [
  {
   "cell_type": "code",
   "execution_count": 17,
   "metadata": {},
   "outputs": [],
   "source": [
    "import os\n",
    "import re\n",
    "import pandas as pd\n",
    "from pdfminer.high_level import extract_text\n",
    "from ipywidgets import interact, widgets, IntProgress, Label\n",
    "from IPython.display import display, clear_output"
   ]
  },
  {
   "cell_type": "code",
   "execution_count": 26,
   "metadata": {},
   "outputs": [
    {
     "data": {
      "application/vnd.jupyter.widget-view+json": {
       "model_id": "c0e2accdfae542d8852bc797295c7b58",
       "version_major": 2,
       "version_minor": 0
      },
      "text/plain": [
       "Dropdown(description='Select PDF File', options=('CAG_Baocaothuongnien_2018.pdf', 'CMP_Baocaothuongnien_2021.p…"
      ]
     },
     "metadata": {},
     "output_type": "display_data"
    },
    {
     "data": {
      "application/vnd.jupyter.widget-view+json": {
       "model_id": "2e11f3a9b967436d8eeb3da39b295386",
       "version_major": 2,
       "version_minor": 0
      },
      "text/plain": [
       "Button(description='Submit', style=ButtonStyle())"
      ]
     },
     "metadata": {},
     "output_type": "display_data"
    },
    {
     "data": {
      "application/vnd.jupyter.widget-view+json": {
       "model_id": "a1f92ca7ae3644099fab47d051a9f6bb",
       "version_major": 2,
       "version_minor": 0
      },
      "text/plain": [
       "FloatProgress(value=0.0, bar_style='info', description='Progress:', max=1.0)"
      ]
     },
     "metadata": {},
     "output_type": "display_data"
    },
    {
     "data": {
      "application/vnd.jupyter.widget-view+json": {
       "model_id": "1319013187f940b19119645e16db3502",
       "version_major": 2,
       "version_minor": 0
      },
      "text/plain": [
       "Label(value='')"
      ]
     },
     "metadata": {},
     "output_type": "display_data"
    },
    {
     "data": {
      "application/vnd.jupyter.widget-view+json": {
       "model_id": "ace6bb3fbe5145d3bf6d95f4c90f222d",
       "version_major": 2,
       "version_minor": 0
      },
      "text/plain": [
       "Output()"
      ]
     },
     "metadata": {},
     "output_type": "display_data"
    }
   ],
   "source": [
    "# Hàm để đếm số lần xuất hiện của các từ khóa\n",
    "def count_word_occurrences(file_path, target_words, progress_bar, status_label):\n",
    "    # Đọc nội dung từ file PDF\n",
    "    with open(file_path, 'rb') as file:\n",
    "        text = extract_text(file)\n",
    "\n",
    "    # Chuyển nội dung thành chữ thường\n",
    "    content_lower = text.lower()\n",
    "\n",
    "    # Tạo danh sách kết quả\n",
    "    occurrences = {}\n",
    "    for i, target_word in enumerate(target_words):\n",
    "        # Cập nhật thanh tiến trình và trạng thái\n",
    "        progress_bar.value = (i + 1) / len(target_words)\n",
    "        status_label.value = f\"Đang kiểm tra từ khóa '{target_word}'...\"\n",
    "        \n",
    "        # Chuyển từ khóa thành chữ thường và tìm kiếm\n",
    "        target_word_lower = target_word.lower()\n",
    "        pattern = re.compile(r'\\b{}\\b'.format(re.escape(target_word_lower)))\n",
    "        count = len(re.findall(pattern, content_lower))\n",
    "        occurrences[target_word] = count\n",
    "        \n",
    "    return occurrences\n",
    "\n",
    "# Tự động lấy danh sách file PDF trong thư mục\n",
    "directory_path = \"DemoPDF/\"  # Thư mục chứa các file PDF\n",
    "pdf_files = [f for f in os.listdir(directory_path) if f.endswith('.pdf')]\n",
    "\n",
    "# Đọc danh sách từ khóa từ file txt\n",
    "txt_file = \"keywords.txt\"\n",
    "with open(txt_file, \"r\", encoding=\"utf-8\") as file:\n",
    "    keywords = [line.strip() for line in file.readlines()]\n",
    "\n",
    "# Thiết lập giao diện\n",
    "pdf_file_dropdown = widgets.Dropdown(options=pdf_files, description='Select PDF File')\n",
    "submit_button = widgets.Button(description='Submit')\n",
    "progress_bar = widgets.FloatProgress(value=0.0, min=0.0, max=1.0, description='Progress:', bar_style='info')\n",
    "status_label = widgets.Label(value=\"\")\n",
    "\n",
    "result_output = widgets.Output()\n",
    "\n",
    "# Hàm xử lý khi bấm nút Submit\n",
    "def on_submit_clicked(b):\n",
    "    pdf_file = pdf_file_dropdown.value\n",
    "    progress_bar.value = 0\n",
    "    status_label.value = \"Bắt đầu đếm từ khóa...\"\n",
    "    count_results = count_word_occurrences(os.path.join(directory_path, pdf_file), keywords, progress_bar, status_label)\n",
    "    \n",
    "    # Hiển thị kết quả và chuẩn bị dữ liệu cho file Excel\n",
    "    new_results = [{\"PDF File\": pdf_file, \"Keyword\": keyword, \"Count\": count} for keyword, count in count_results.items()]\n",
    "    new_df = pd.DataFrame(new_results)\n",
    "    \n",
    "    output_file = \"all_pdf_keyword_counts.xlsx\"\n",
    "    \n",
    "    # Nếu file Excel đã tồn tại, thêm dữ liệu mới vào sau các dữ liệu cũ\n",
    "    if os.path.exists(output_file):\n",
    "        existing_df = pd.read_excel(output_file)\n",
    "        combined_df = pd.concat([existing_df, new_df], ignore_index=True)\n",
    "        combined_df.to_excel(output_file, index=False)\n",
    "    else:\n",
    "        # Nếu file chưa tồn tại, tạo file mới\n",
    "        new_df.to_excel(output_file, index=False)\n",
    "    \n",
    "    with result_output:\n",
    "        result_output.clear_output()\n",
    "        print(f\"Kết quả đã được lưu vào file Excel: {output_file}\")\n",
    "    \n",
    "    status_label.value = \"Hoàn thành!\"\n",
    "\n",
    "# Gán hàm xử lý vào nút\n",
    "submit_button.on_click(on_submit_clicked)\n",
    "\n",
    "# Hiển thị giao diện\n",
    "display(pdf_file_dropdown, submit_button, progress_bar, status_label, result_output)"
   ]
  }
 ],
 "metadata": {
  "kernelspec": {
   "display_name": "base",
   "language": "python",
   "name": "python3"
  },
  "language_info": {
   "codemirror_mode": {
    "name": "ipython",
    "version": 3
   },
   "file_extension": ".py",
   "mimetype": "text/x-python",
   "name": "python",
   "nbconvert_exporter": "python",
   "pygments_lexer": "ipython3",
   "version": "3.11.7"
  }
 },
 "nbformat": 4,
 "nbformat_minor": 2
}
