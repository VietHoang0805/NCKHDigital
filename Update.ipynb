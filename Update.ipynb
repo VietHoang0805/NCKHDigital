{
 "cells": [
  {
   "cell_type": "code",
   "execution_count": 17,
   "metadata": {},
   "outputs": [],
   "source": [
    "import os\n",
    "import re\n",
    "import pandas as pd\n",
    "from pdfminer.high_level import extract_text\n",
    "from ipywidgets import interact, widgets, IntProgress, Label\n",
    "from IPython.display import display, clear_output"
   ]
  },
  {
   "cell_type": "markdown",
   "metadata": {},
   "source": [
    "# Đoạn code để xuất ra file excel sau khi đếm keyword"
   ]
  },
  {
   "cell_type": "code",
   "execution_count": 26,
   "metadata": {},
   "outputs": [
    {
     "data": {
      "application/vnd.jupyter.widget-view+json": {
       "model_id": "c0e2accdfae542d8852bc797295c7b58",
       "version_major": 2,
       "version_minor": 0
      },
      "text/plain": [
       "Dropdown(description='Select PDF File', options=('CAG_Baocaothuongnien_2018.pdf', 'CMP_Baocaothuongnien_2021.p…"
      ]
     },
     "metadata": {},
     "output_type": "display_data"
    },
    {
     "data": {
      "application/vnd.jupyter.widget-view+json": {
       "model_id": "2e11f3a9b967436d8eeb3da39b295386",
       "version_major": 2,
       "version_minor": 0
      },
      "text/plain": [
       "Button(description='Submit', style=ButtonStyle())"
      ]
     },
     "metadata": {},
     "output_type": "display_data"
    },
    {
     "data": {
      "application/vnd.jupyter.widget-view+json": {
       "model_id": "a1f92ca7ae3644099fab47d051a9f6bb",
       "version_major": 2,
       "version_minor": 0
      },
      "text/plain": [
       "FloatProgress(value=0.0, bar_style='info', description='Progress:', max=1.0)"
      ]
     },
     "metadata": {},
     "output_type": "display_data"
    },
    {
     "data": {
      "application/vnd.jupyter.widget-view+json": {
       "model_id": "1319013187f940b19119645e16db3502",
       "version_major": 2,
       "version_minor": 0
      },
      "text/plain": [
       "Label(value='')"
      ]
     },
     "metadata": {},
     "output_type": "display_data"
    },
    {
     "data": {
      "application/vnd.jupyter.widget-view+json": {
       "model_id": "ace6bb3fbe5145d3bf6d95f4c90f222d",
       "version_major": 2,
       "version_minor": 0
      },
      "text/plain": [
       "Output()"
      ]
     },
     "metadata": {},
     "output_type": "display_data"
    }
   ],
   "source": [
    "# Hàm để đếm số lần xuất hiện của các từ khóa\n",
    "def count_word_occurrences(file_path, target_words, progress_bar, status_label):\n",
    "    # Đọc nội dung từ file PDF\n",
    "    with open(file_path, 'rb') as file:\n",
    "        text = extract_text(file)\n",
    "\n",
    "    # Chuyển nội dung thành chữ thường\n",
    "    content_lower = text.lower()\n",
    "\n",
    "    # Tạo danh sách kết quả\n",
    "    occurrences = {}\n",
    "    for i, target_word in enumerate(target_words):\n",
    "        # Cập nhật thanh tiến trình và trạng thái\n",
    "        progress_bar.value = (i + 1) / len(target_words)\n",
    "        status_label.value = f\"Đang kiểm tra từ khóa '{target_word}'...\"\n",
    "        \n",
    "        # Chuyển từ khóa thành chữ thường và tìm kiếm\n",
    "        target_word_lower = target_word.lower()\n",
    "        pattern = re.compile(r'\\b{}\\b'.format(re.escape(target_word_lower)))\n",
    "        count = len(re.findall(pattern, content_lower))\n",
    "        occurrences[target_word] = count\n",
    "        \n",
    "    return occurrences\n",
    "\n",
    "# Tự động lấy danh sách file PDF trong thư mục\n",
    "directory_path = \"DemoPDF/\"  # Thư mục chứa các file PDF\n",
    "pdf_files = [f for f in os.listdir(directory_path) if f.endswith('.pdf')]\n",
    "\n",
    "# Đọc danh sách từ khóa từ file txt\n",
    "txt_file = \"keywords.txt\"\n",
    "with open(txt_file, \"r\", encoding=\"utf-8\") as file:\n",
    "    keywords = [line.strip() for line in file.readlines()]\n",
    "\n",
    "# Thiết lập giao diện\n",
    "pdf_file_dropdown = widgets.Dropdown(options=pdf_files, description='Select PDF File')\n",
    "submit_button = widgets.Button(description='Submit')\n",
    "progress_bar = widgets.FloatProgress(value=0.0, min=0.0, max=1.0, description='Progress:', bar_style='info')\n",
    "status_label = widgets.Label(value=\"\")\n",
    "\n",
    "result_output = widgets.Output()\n",
    "\n",
    "# Hàm xử lý khi bấm nút Submit\n",
    "def on_submit_clicked(b):\n",
    "    pdf_file = pdf_file_dropdown.value\n",
    "    progress_bar.value = 0\n",
    "    status_label.value = \"Bắt đầu đếm từ khóa...\"\n",
    "    count_results = count_word_occurrences(os.path.join(directory_path, pdf_file), keywords, progress_bar, status_label)\n",
    "    \n",
    "    # Hiển thị kết quả và chuẩn bị dữ liệu cho file Excel\n",
    "    new_results = [{\"PDF File\": pdf_file, \"Keyword\": keyword, \"Count\": count} for keyword, count in count_results.items()]\n",
    "    new_df = pd.DataFrame(new_results)\n",
    "    \n",
    "    output_file = \"all_pdf_keyword_counts.xlsx\"\n",
    "    \n",
    "    # Nếu file Excel đã tồn tại, thêm dữ liệu mới vào sau các dữ liệu cũ\n",
    "    if os.path.exists(output_file):\n",
    "        existing_df = pd.read_excel(output_file)\n",
    "        combined_df = pd.concat([existing_df, new_df], ignore_index=True)\n",
    "        combined_df.to_excel(output_file, index=False)\n",
    "    else:\n",
    "        # Nếu file chưa tồn tại, tạo file mới\n",
    "        new_df.to_excel(output_file, index=False)\n",
    "    \n",
    "    with result_output:\n",
    "        result_output.clear_output()\n",
    "        print(f\"Kết quả đã được lưu vào file Excel: {output_file}\")\n",
    "    \n",
    "    status_label.value = \"Hoàn thành!\"\n",
    "\n",
    "# Gán hàm xử lý vào nút\n",
    "submit_button.on_click(on_submit_clicked)\n",
    "\n",
    "# Hiển thị giao diện\n",
    "display(pdf_file_dropdown, submit_button, progress_bar, status_label, result_output)"
   ]
  },
  {
   "cell_type": "markdown",
   "metadata": {},
   "source": [
    "# Đoạn code để xuất ra file json sang sau khi đếm keyword"
   ]
  },
  {
   "cell_type": "code",
   "execution_count": 9,
   "metadata": {},
   "outputs": [
    {
     "data": {
      "application/vnd.jupyter.widget-view+json": {
       "model_id": "436e870c5cc54d6493a93dfc8f6d5f33",
       "version_major": 2,
       "version_minor": 0
      },
      "text/plain": [
       "Dropdown(description='Select PDF File', options=('All PDF Files', 'CAG_Baocaothuongnien_2018.pdf', 'CMP_Baocao…"
      ]
     },
     "metadata": {},
     "output_type": "display_data"
    },
    {
     "data": {
      "application/vnd.jupyter.widget-view+json": {
       "model_id": "5339dcfa965d446abbdcedccc0903f62",
       "version_major": 2,
       "version_minor": 0
      },
      "text/plain": [
       "Button(description='Submit', style=ButtonStyle())"
      ]
     },
     "metadata": {},
     "output_type": "display_data"
    },
    {
     "data": {
      "application/vnd.jupyter.widget-view+json": {
       "model_id": "108c456cc0a84d4bb8afb54fd0b7fd72",
       "version_major": 2,
       "version_minor": 0
      },
      "text/plain": [
       "FloatProgress(value=0.0, bar_style='info', description='Progress:', max=1.0)"
      ]
     },
     "metadata": {},
     "output_type": "display_data"
    },
    {
     "data": {
      "application/vnd.jupyter.widget-view+json": {
       "model_id": "2e494fa7900c40c8a40af9d439e0abd2",
       "version_major": 2,
       "version_minor": 0
      },
      "text/plain": [
       "Label(value='')"
      ]
     },
     "metadata": {},
     "output_type": "display_data"
    },
    {
     "data": {
      "application/vnd.jupyter.widget-view+json": {
       "model_id": "1881b93f97e349d0ae310a1eeb4df7b1",
       "version_major": 2,
       "version_minor": 0
      },
      "text/plain": [
       "Output()"
      ]
     },
     "metadata": {},
     "output_type": "display_data"
    }
   ],
   "source": [
    "import json\n",
    "import os\n",
    "import re\n",
    "from pdfminer.high_level import extract_text\n",
    "import ipywidgets as widgets\n",
    "from IPython.display import display\n",
    "\n",
    "# Hàm để đếm số lần xuất hiện của các từ khóa với phân biệt hoa-thường\n",
    "def count_word_occurrences(file_path, target_words, progress_bar, status_label):\n",
    "    with open(file_path, 'rb') as file:\n",
    "        text = extract_text(file)\n",
    "\n",
    "    occurrences = {}\n",
    "    for i, target_word in enumerate(target_words):\n",
    "        progress_bar.value = (i + 1) / len(target_words)\n",
    "        status_label.value = f\"Đang kiểm tra từ khóa '{target_word}'...\"\n",
    "        \n",
    "        # Kiểm tra phân biệt hoa-thường cho \"AI\" và \"ai\"\n",
    "        if target_word == \"AI\":\n",
    "            count = len(re.findall(r'\\bAI\\b', text))\n",
    "        elif target_word == \"ai\":\n",
    "            count = len(re.findall(r'\\bai\\b', text))\n",
    "        else:\n",
    "            pattern = re.compile(r'\\b{}\\b'.format(re.escape(target_word)), re.IGNORECASE)\n",
    "            count = len(re.findall(pattern, text))\n",
    "        \n",
    "        occurrences[target_word] = count\n",
    "\n",
    "    return occurrences\n",
    "\n",
    "# Tự động lấy danh sách file PDF trong thư mục\n",
    "directory_path = \"DemoPDF/\"  \n",
    "pdf_files = [f for f in os.listdir(directory_path) if f.endswith('.pdf')]\n",
    "\n",
    "# Đọc danh sách từ khóa từ file txt\n",
    "txt_file = \"keywords.txt\"\n",
    "with open(txt_file, \"r\", encoding=\"utf-8\") as file:\n",
    "    keywords = [line.strip() for line in file.readlines()]\n",
    "\n",
    "# Thiết lập giao diện với \"All PDF Files\" ở đầu danh sách\n",
    "pdf_file_dropdown = widgets.Dropdown(\n",
    "    options=[\"All PDF Files\"] + pdf_files,  \n",
    "    description='Select PDF File'\n",
    ")\n",
    "submit_button = widgets.Button(description='Submit')\n",
    "progress_bar = widgets.FloatProgress(value=0.0, min=0.0, max=1.0, description='Progress:', bar_style='info')\n",
    "status_label = widgets.Label(value=\"\")\n",
    "result_output = widgets.Output()\n",
    "\n",
    "# Hàm xử lý khi bấm nút Submit\n",
    "def on_submit_clicked(b):\n",
    "    selected_option = pdf_file_dropdown.value\n",
    "    output_file = \"all_pdf_keyword_counts.json\"\n",
    "    all_results = []\n",
    "\n",
    "    if selected_option == \"All PDF Files\":\n",
    "        status_label.value = \"Bắt đầu đếm từ khóa cho tất cả các tệp PDF...\"\n",
    "        for pdf_file in pdf_files:\n",
    "            count_results = count_word_occurrences(os.path.join(directory_path, pdf_file), keywords, progress_bar, status_label)\n",
    "            new_results = [{\"PDF File\": pdf_file, \"Keyword\": keyword, \"Count\": count} for keyword, count in count_results.items()]\n",
    "            all_results.extend(new_results)\n",
    "    else:\n",
    "        pdf_file = selected_option\n",
    "        status_label.value = f\"Đang đếm từ khóa cho tệp: {pdf_file}\"\n",
    "        count_results = count_word_occurrences(os.path.join(directory_path, pdf_file), keywords, progress_bar, status_label)\n",
    "        all_results = [{\"PDF File\": pdf_file, \"Keyword\": keyword, \"Count\": count} for keyword, count in count_results.items()]\n",
    "\n",
    "    # Ghi kết quả vào JSON\n",
    "    if os.path.exists(output_file) and os.path.getsize(output_file) > 0:\n",
    "        with open(output_file, 'r', encoding='utf-8') as f:\n",
    "            existing_data = json.load(f)\n",
    "            existing_data.extend(all_results)\n",
    "        \n",
    "        with open(output_file, 'w', encoding='utf-8') as f:\n",
    "            json.dump(existing_data, f, ensure_ascii=False, indent=4)\n",
    "    else:\n",
    "        with open(output_file, 'w', encoding='utf-8') as f:\n",
    "            json.dump(all_results, f, ensure_ascii=False, indent=4)\n",
    "    \n",
    "    with result_output:\n",
    "        result_output.clear_output()\n",
    "        print(f\"Kết quả đã được lưu vào file JSON: {output_file}\")\n",
    "    \n",
    "    status_label.value = \"Hoàn thành!\"\n",
    "\n",
    "# Gán hàm xử lý vào nút\n",
    "submit_button.on_click(on_submit_clicked)\n",
    "\n",
    "# Hiển thị giao diện\n",
    "display(pdf_file_dropdown, submit_button, progress_bar, status_label, result_output)\n"
   ]
  },
  {
   "cell_type": "markdown",
   "metadata": {},
   "source": [
    "# Đoạn code chuyển dữ liệu từ file json sang excel"
   ]
  },
  {
   "cell_type": "code",
   "execution_count": 45,
   "metadata": {},
   "outputs": [
    {
     "name": "stdout",
     "output_type": "stream",
     "text": [
      "Dữ liệu đã được chuyển đổi và lưu vào file Excel: all_pdf_keyword_counts.xlsx\n"
     ]
    }
   ],
   "source": [
    "import pandas as pd\n",
    "import json\n",
    "\n",
    "# Đọc dữ liệu từ file JSON\n",
    "json_file = \"all_pdf_keyword_counts.json\"  # Đường dẫn tới file JSON\n",
    "with open(json_file, 'r', encoding='utf-8') as f:\n",
    "    data = json.load(f)\n",
    "\n",
    "# Chuyển đổi dữ liệu thành DataFrame\n",
    "df = pd.DataFrame(data)\n",
    "\n",
    "# Lưu DataFrame vào file Excel\n",
    "excel_file = \"all_pdf_keyword_counts.xlsx\"  # Đường dẫn tới file Excel đầu ra\n",
    "df.to_excel(excel_file, index=False)\n",
    "\n",
    "print(f\"Dữ liệu đã được chuyển đổi và lưu vào file Excel: {excel_file}\")\n"
   ]
  },
  {
   "cell_type": "markdown",
   "metadata": {},
   "source": [
    "# Đoạn code phân loại File scan và không scan"
   ]
  },
  {
   "cell_type": "code",
   "execution_count": 43,
   "metadata": {},
   "outputs": [
    {
     "name": "stdout",
     "output_type": "stream",
     "text": [
      "ACV_Baocaothuongnien_2019.pdf: 42.64% text present\n",
      "File ACV_Baocaothuongnien_2019.pdf is currently in use. Retrying (1/10) in 1 second...\n",
      "File ACV_Baocaothuongnien_2019.pdf is currently in use. Retrying (2/10) in 1 second...\n",
      "File ACV_Baocaothuongnien_2019.pdf is currently in use. Retrying (3/10) in 1 second...\n",
      "File ACV_Baocaothuongnien_2019.pdf is currently in use. Retrying (4/10) in 1 second...\n",
      "File ACV_Baocaothuongnien_2019.pdf is currently in use. Retrying (5/10) in 1 second...\n",
      "File ACV_Baocaothuongnien_2019.pdf is currently in use. Retrying (6/10) in 1 second...\n",
      "File ACV_Baocaothuongnien_2019.pdf is currently in use. Retrying (7/10) in 1 second...\n",
      "File ACV_Baocaothuongnien_2019.pdf is currently in use. Retrying (8/10) in 1 second...\n",
      "File ACV_Baocaothuongnien_2019.pdf is currently in use. Retrying (9/10) in 1 second...\n",
      "File ACV_Baocaothuongnien_2019.pdf is currently in use. Retrying (10/10) in 1 second...\n",
      "DNL_Baocaothuongnien_2020.pdf: 0.00% text present\n",
      "Moved DNL_Baocaothuongnien_2020.pdf to ./DemoScan/scanned_pdfs.\n"
     ]
    }
   ],
   "source": [
    "import os\n",
    "import shutil\n",
    "import fitz\n",
    "import time\n",
    "\n",
    "def get_text_percentage(file_name: str) -> float:\n",
    "    \"\"\"\n",
    "    Calculate the percentage of document that is covered by (searchable) text.\n",
    "    \n",
    "    If the returned percentage of text is very low, the document is\n",
    "    most likely a scanned PDF.\n",
    "    \"\"\"\n",
    "    total_page_area = 0.0\n",
    "    total_text_area = 0.0\n",
    "\n",
    "    doc = fitz.open(file_name)\n",
    "\n",
    "    for page in doc:\n",
    "        total_page_area += abs(page.rect)  # Diện tích tổng của trang\n",
    "        text_area = sum(abs(fitz.Rect(b[:4])) for b in page.get_text(\"blocks\"))  # Tính tổng diện tích văn bản\n",
    "        total_text_area += text_area\n",
    "\n",
    "    doc.close()\n",
    "    return total_text_area / total_page_area if total_page_area > 0 else 0\n",
    "\n",
    "def classify_pdfs(source_directory: str, scanned_folder: str, non_scanned_folder: str):\n",
    "    \"\"\"\n",
    "    Classify PDFs into scanned and non-scanned folders based on text content percentage.\n",
    "    \"\"\"\n",
    "    # Tạo các thư mục cho file scan và không scan nếu chưa tồn tại\n",
    "    os.makedirs(scanned_folder, exist_ok=True)\n",
    "    os.makedirs(non_scanned_folder, exist_ok=True)\n",
    "\n",
    "    # Lấy danh sách các file PDF trong thư mục nguồn\n",
    "    pdf_files = [f for f in os.listdir(source_directory) if f.endswith('.pdf')]\n",
    "\n",
    "    # Phân loại và di chuyển các file PDF\n",
    "    for pdf_file in pdf_files:\n",
    "        file_path = os.path.join(source_directory, pdf_file)\n",
    "\n",
    "        # Tính phần trăm văn bản\n",
    "        text_perc = get_text_percentage(file_path)\n",
    "        \n",
    "        # In ra phần trăm văn bản\n",
    "        print(f\"{pdf_file}: {text_perc:.2%} text present\")\n",
    "\n",
    "        # Định nghĩa thư mục đích\n",
    "        destination = scanned_folder if text_perc < 0.01 else non_scanned_folder\n",
    "\n",
    "        # Thử di chuyển file, xử lý lỗi nếu cần\n",
    "        max_retries = 5  # Số lần thử tối đa\n",
    "        retries = 0\n",
    "        while retries < max_retries:\n",
    "            try:\n",
    "                shutil.move(file_path, os.path.join(destination, pdf_file))\n",
    "                print(f\"Moved {pdf_file} to {destination}.\")\n",
    "                break  # Thoát khỏi vòng lặp nếu di chuyển thành công\n",
    "            except PermissionError:\n",
    "                retries += 1\n",
    "                print(f\"File {pdf_file} is currently in use. Retrying ({retries}/{max_retries}) in 1 second...\")\n",
    "                time.sleep(1)  # Chờ 1 giây trước khi thử lại\n",
    "            except Exception as e:\n",
    "                print(f\"An unexpected error occurred: {e}\")\n",
    "                break  # Thoát khỏi vòng lặp nếu có lỗi khác\n",
    "\n",
    "if __name__ == \"__main__\":\n",
    "    source_directory = \"./DemoScan\"  # Đường dẫn đến thư mục chứa các file PDF\n",
    "    scanned_folder = \"./DemoScan/scanned_pdfs\"\n",
    "    non_scanned_folder = \"./DemoScan/non_scanned_pdfs\"\n",
    "    \n",
    "    classify_pdfs(source_directory, scanned_folder, non_scanned_folder)\n"
   ]
  }
 ],
 "metadata": {
  "kernelspec": {
   "display_name": "base",
   "language": "python",
   "name": "python3"
  },
  "language_info": {
   "codemirror_mode": {
    "name": "ipython",
    "version": 3
   },
   "file_extension": ".py",
   "mimetype": "text/x-python",
   "name": "python",
   "nbconvert_exporter": "python",
   "pygments_lexer": "ipython3",
   "version": "3.11.7"
  }
 },
 "nbformat": 4,
 "nbformat_minor": 2
}
