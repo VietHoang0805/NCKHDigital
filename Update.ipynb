{
 "cells": [
  {
   "cell_type": "code",
   "execution_count": 17,
   "metadata": {},
   "outputs": [],
   "source": [
    "import os\n",
    "import re\n",
    "import pandas as pd\n",
    "from pdfminer.high_level import extract_text\n",
    "from ipywidgets import interact, widgets, IntProgress, Label\n",
    "from IPython.display import display, clear_output"
   ]
  },
  {
   "cell_type": "markdown",
   "metadata": {},
   "source": [
    "# Đoạn code để xuất ra file excel sau khi đếm keyword"
   ]
  },
  {
   "cell_type": "code",
   "execution_count": 26,
   "metadata": {},
   "outputs": [
    {
     "data": {
      "application/vnd.jupyter.widget-view+json": {
       "model_id": "c0e2accdfae542d8852bc797295c7b58",
       "version_major": 2,
       "version_minor": 0
      },
      "text/plain": [
       "Dropdown(description='Select PDF File', options=('CAG_Baocaothuongnien_2018.pdf', 'CMP_Baocaothuongnien_2021.p…"
      ]
     },
     "metadata": {},
     "output_type": "display_data"
    },
    {
     "data": {
      "application/vnd.jupyter.widget-view+json": {
       "model_id": "2e11f3a9b967436d8eeb3da39b295386",
       "version_major": 2,
       "version_minor": 0
      },
      "text/plain": [
       "Button(description='Submit', style=ButtonStyle())"
      ]
     },
     "metadata": {},
     "output_type": "display_data"
    },
    {
     "data": {
      "application/vnd.jupyter.widget-view+json": {
       "model_id": "a1f92ca7ae3644099fab47d051a9f6bb",
       "version_major": 2,
       "version_minor": 0
      },
      "text/plain": [
       "FloatProgress(value=0.0, bar_style='info', description='Progress:', max=1.0)"
      ]
     },
     "metadata": {},
     "output_type": "display_data"
    },
    {
     "data": {
      "application/vnd.jupyter.widget-view+json": {
       "model_id": "1319013187f940b19119645e16db3502",
       "version_major": 2,
       "version_minor": 0
      },
      "text/plain": [
       "Label(value='')"
      ]
     },
     "metadata": {},
     "output_type": "display_data"
    },
    {
     "data": {
      "application/vnd.jupyter.widget-view+json": {
       "model_id": "ace6bb3fbe5145d3bf6d95f4c90f222d",
       "version_major": 2,
       "version_minor": 0
      },
      "text/plain": [
       "Output()"
      ]
     },
     "metadata": {},
     "output_type": "display_data"
    }
   ],
   "source": [
    "# Hàm để đếm số lần xuất hiện của các từ khóa\n",
    "def count_word_occurrences(file_path, target_words, progress_bar, status_label):\n",
    "    # Đọc nội dung từ file PDF\n",
    "    with open(file_path, 'rb') as file:\n",
    "        text = extract_text(file)\n",
    "\n",
    "    # Chuyển nội dung thành chữ thường\n",
    "    content_lower = text.lower()\n",
    "\n",
    "    # Tạo danh sách kết quả\n",
    "    occurrences = {}\n",
    "    for i, target_word in enumerate(target_words):\n",
    "        # Cập nhật thanh tiến trình và trạng thái\n",
    "        progress_bar.value = (i + 1) / len(target_words)\n",
    "        status_label.value = f\"Đang kiểm tra từ khóa '{target_word}'...\"\n",
    "        \n",
    "        # Chuyển từ khóa thành chữ thường và tìm kiếm\n",
    "        target_word_lower = target_word.lower()\n",
    "        pattern = re.compile(r'\\b{}\\b'.format(re.escape(target_word_lower)))\n",
    "        count = len(re.findall(pattern, content_lower))\n",
    "        occurrences[target_word] = count\n",
    "        \n",
    "    return occurrences\n",
    "\n",
    "# Tự động lấy danh sách file PDF trong thư mục\n",
    "directory_path = \"DemoPDF/\"  # Thư mục chứa các file PDF\n",
    "pdf_files = [f for f in os.listdir(directory_path) if f.endswith('.pdf')]\n",
    "\n",
    "# Đọc danh sách từ khóa từ file txt\n",
    "txt_file = \"keywords.txt\"\n",
    "with open(txt_file, \"r\", encoding=\"utf-8\") as file:\n",
    "    keywords = [line.strip() for line in file.readlines()]\n",
    "\n",
    "# Thiết lập giao diện\n",
    "pdf_file_dropdown = widgets.Dropdown(options=pdf_files, description='Select PDF File')\n",
    "submit_button = widgets.Button(description='Submit')\n",
    "progress_bar = widgets.FloatProgress(value=0.0, min=0.0, max=1.0, description='Progress:', bar_style='info')\n",
    "status_label = widgets.Label(value=\"\")\n",
    "\n",
    "result_output = widgets.Output()\n",
    "\n",
    "# Hàm xử lý khi bấm nút Submit\n",
    "def on_submit_clicked(b):\n",
    "    pdf_file = pdf_file_dropdown.value\n",
    "    progress_bar.value = 0\n",
    "    status_label.value = \"Bắt đầu đếm từ khóa...\"\n",
    "    count_results = count_word_occurrences(os.path.join(directory_path, pdf_file), keywords, progress_bar, status_label)\n",
    "    \n",
    "    # Hiển thị kết quả và chuẩn bị dữ liệu cho file Excel\n",
    "    new_results = [{\"PDF File\": pdf_file, \"Keyword\": keyword, \"Count\": count} for keyword, count in count_results.items()]\n",
    "    new_df = pd.DataFrame(new_results)\n",
    "    \n",
    "    output_file = \"all_pdf_keyword_counts.xlsx\"\n",
    "    \n",
    "    # Nếu file Excel đã tồn tại, thêm dữ liệu mới vào sau các dữ liệu cũ\n",
    "    if os.path.exists(output_file):\n",
    "        existing_df = pd.read_excel(output_file)\n",
    "        combined_df = pd.concat([existing_df, new_df], ignore_index=True)\n",
    "        combined_df.to_excel(output_file, index=False)\n",
    "    else:\n",
    "        # Nếu file chưa tồn tại, tạo file mới\n",
    "        new_df.to_excel(output_file, index=False)\n",
    "    \n",
    "    with result_output:\n",
    "        result_output.clear_output()\n",
    "        print(f\"Kết quả đã được lưu vào file Excel: {output_file}\")\n",
    "    \n",
    "    status_label.value = \"Hoàn thành!\"\n",
    "\n",
    "# Gán hàm xử lý vào nút\n",
    "submit_button.on_click(on_submit_clicked)\n",
    "\n",
    "# Hiển thị giao diện\n",
    "display(pdf_file_dropdown, submit_button, progress_bar, status_label, result_output)"
   ]
  },
  {
   "cell_type": "markdown",
   "metadata": {},
   "source": [
    "# Đoạn code để xuất ra file json sang sau khi đếm keyword"
   ]
  },
  {
   "cell_type": "code",
   "execution_count": null,
   "metadata": {},
   "outputs": [
    {
     "data": {
      "application/vnd.jupyter.widget-view+json": {
       "model_id": "9f2c6aa77fbf4e84b39133ff35adb7d4",
       "version_major": 2,
       "version_minor": 0
      },
      "text/plain": [
       "Dropdown(description='Select PDF File', options=('All PDF Files', 'CAG_Baocaothuongnien_2018.pdf', 'CMP_Baocao…"
      ]
     },
     "metadata": {},
     "output_type": "display_data"
    },
    {
     "data": {
      "application/vnd.jupyter.widget-view+json": {
       "model_id": "615febc5623140d89affac79d5c9b644",
       "version_major": 2,
       "version_minor": 0
      },
      "text/plain": [
       "Button(description='Submit', style=ButtonStyle())"
      ]
     },
     "metadata": {},
     "output_type": "display_data"
    },
    {
     "data": {
      "application/vnd.jupyter.widget-view+json": {
       "model_id": "7f691f3f83b3408789197606b158db04",
       "version_major": 2,
       "version_minor": 0
      },
      "text/plain": [
       "FloatProgress(value=0.0, bar_style='info', description='Progress:', max=1.0)"
      ]
     },
     "metadata": {},
     "output_type": "display_data"
    },
    {
     "data": {
      "application/vnd.jupyter.widget-view+json": {
       "model_id": "f2801cde1b7a40dca73fd31cf5b005ed",
       "version_major": 2,
       "version_minor": 0
      },
      "text/plain": [
       "Label(value='')"
      ]
     },
     "metadata": {},
     "output_type": "display_data"
    },
    {
     "data": {
      "application/vnd.jupyter.widget-view+json": {
       "model_id": "261cbb8ad9a341949f6bd8fd3c7ca901",
       "version_major": 2,
       "version_minor": 0
      },
      "text/plain": [
       "Output()"
      ]
     },
     "metadata": {},
     "output_type": "display_data"
    }
   ],
   "source": [
    "import json\n",
    "import os\n",
    "import re\n",
    "from pdfminer.high_level import extract_text\n",
    "import ipywidgets as widgets\n",
    "from IPython.display import display\n",
    "\n",
    "# Hàm để đếm số lần xuất hiện của các từ khóa với phân biệt hoa-thường\n",
    "def count_word_occurrences(file_path, target_words, progress_bar, status_label):\n",
    "    with open(file_path, 'rb') as file:\n",
    "        text = extract_text(file)\n",
    "    \n",
    "    # Loại bỏ các ngắt dòng và giữ lại khoảng trắng\n",
    "    text = re.sub(r'-\\n', '', text)  # Loại bỏ ngắt dòng khi từ bị nối bằng dấu gạch ngang\n",
    "    text = re.sub(r'\\n+', ' ', text)  # Thay thế các ngắt dòng liên tục bằng khoảng trắng\n",
    "    \n",
    "    occurrences = {}\n",
    "    for i, target_word in enumerate(target_words):\n",
    "        progress_bar.value = (i + 1) / len(target_words)\n",
    "        status_label.value = f\"Đang kiểm tra từ khóa '{target_word}'...\"\n",
    "        \n",
    "        # Kiểm tra phân biệt hoa-thường cho \"AI\" và \"ai\"\n",
    "        if target_word == \"AI\":\n",
    "            count = len(re.findall(r'\\bAI\\b', text))\n",
    "        elif target_word == \"ai\":\n",
    "            count = len(re.findall(r'\\bai\\b', text))\n",
    "        else:\n",
    "            pattern = re.compile(r'\\b{}\\b'.format(re.escape(target_word)), re.IGNORECASE)\n",
    "            count = len(re.findall(pattern, text))\n",
    "        \n",
    "        occurrences[target_word] = count\n",
    "\n",
    "    return occurrences\n",
    "\n",
    "\n",
    "\n",
    "# Tự động lấy danh sách file PDF trong thư mục\n",
    "directory_path = \"DemoPDF/\"  \n",
    "pdf_files = [f for f in os.listdir(directory_path) if f.endswith('.pdf')]\n",
    "\n",
    "# Đọc danh sách từ khóa từ file txt\n",
    "txt_file = \"keywords.txt\"\n",
    "with open(txt_file, \"r\", encoding=\"utf-8\") as file:\n",
    "    keywords = [line.strip() for line in file.readlines()]\n",
    "\n",
    "# Thiết lập giao diện với \"All PDF Files\" ở đầu danh sách\n",
    "pdf_file_dropdown = widgets.Dropdown(\n",
    "    options=[\"All PDF Files\"] + pdf_files,  \n",
    "    description='Select PDF File'\n",
    ")\n",
    "submit_button = widgets.Button(description='Submit')\n",
    "progress_bar = widgets.FloatProgress(value=0.0, min=0.0, max=1.0, description='Progress:', bar_style='info')\n",
    "status_label = widgets.Label(value=\"\")\n",
    "result_output = widgets.Output()\n",
    "\n",
    "# Hàm xử lý khi bấm nút Submit\n",
    "def on_submit_clicked(b):\n",
    "    selected_option = pdf_file_dropdown.value\n",
    "    output_file = \"all_pdf_keyword_counts.json\"\n",
    "    all_results = []\n",
    "\n",
    "    if selected_option == \"All PDF Files\":\n",
    "        status_label.value = \"Bắt đầu đếm từ khóa cho tất cả các tệp PDF...\"\n",
    "        for pdf_file in pdf_files:\n",
    "            count_results = count_word_occurrences(os.path.join(directory_path, pdf_file), keywords, progress_bar, status_label)\n",
    "            new_results = [{\"PDF File\": pdf_file, \"Keyword\": keyword, \"Count\": count} for keyword, count in count_results.items()]\n",
    "            all_results.extend(new_results)\n",
    "    else:\n",
    "        pdf_file = selected_option\n",
    "        status_label.value = f\"Đang đếm từ khóa cho tệp: {pdf_file}\"\n",
    "        count_results = count_word_occurrences(os.path.join(directory_path, pdf_file), keywords, progress_bar, status_label)\n",
    "        all_results = [{\"PDF File\": pdf_file, \"Keyword\": keyword, \"Count\": count} for keyword, count in count_results.items()]\n",
    "\n",
    "    # Ghi kết quả vào JSON\n",
    "    if os.path.exists(output_file) and os.path.getsize(output_file) > 0:\n",
    "        with open(output_file, 'r', encoding='utf-8') as f:\n",
    "            existing_data = json.load(f)\n",
    "            existing_data.extend(all_results)\n",
    "        \n",
    "        with open(output_file, 'w', encoding='utf-8') as f:\n",
    "            json.dump(existing_data, f, ensure_ascii=False, indent=4)\n",
    "    else:\n",
    "        with open(output_file, 'w', encoding='utf-8') as f:\n",
    "            json.dump(all_results, f, ensure_ascii=False, indent=4)\n",
    "    \n",
    "    with result_output:\n",
    "        result_output.clear_output()\n",
    "        print(f\"Kết quả đã được lưu vào file JSON: {output_file}\")\n",
    "    \n",
    "    status_label.value = \"Hoàn thành!\"\n",
    "\n",
    "# Gán hàm xử lý vào nút\n",
    "submit_button.on_click(on_submit_clicked)\n",
    "\n",
    "# Hiển thị giao diện\n",
    "display(pdf_file_dropdown, submit_button, progress_bar, status_label, result_output)\n"
   ]
  },
  {
   "cell_type": "markdown",
   "metadata": {},
   "source": [
    "# Update code phân loại encode và không encode"
   ]
  },
  {
   "cell_type": "code",
   "execution_count": null,
   "metadata": {},
   "outputs": [
    {
     "data": {
      "application/vnd.jupyter.widget-view+json": {
       "model_id": "ad7ccad4e67449c998b4165481fede4c",
       "version_major": 2,
       "version_minor": 0
      },
      "text/plain": [
       "Dropdown(description='Select PDF File', options=('All PDF Files', 'ACV_Baocaothuongnien_2019.pdf', 'BC.pdf'), …"
      ]
     },
     "metadata": {},
     "output_type": "display_data"
    },
    {
     "data": {
      "application/vnd.jupyter.widget-view+json": {
       "model_id": "8ba86d05f9ea4d9f8b278cbfadcaee7a",
       "version_major": 2,
       "version_minor": 0
      },
      "text/plain": [
       "Button(description='Submit', style=ButtonStyle())"
      ]
     },
     "metadata": {},
     "output_type": "display_data"
    },
    {
     "data": {
      "application/vnd.jupyter.widget-view+json": {
       "model_id": "613abd26a9a84e538b66062b5c35e59d",
       "version_major": 2,
       "version_minor": 0
      },
      "text/plain": [
       "FloatProgress(value=0.0, bar_style='info', description='Progress:', max=1.0)"
      ]
     },
     "metadata": {},
     "output_type": "display_data"
    },
    {
     "data": {
      "application/vnd.jupyter.widget-view+json": {
       "model_id": "126bfe3998ed4d08b7e5258f6462839d",
       "version_major": 2,
       "version_minor": 0
      },
      "text/plain": [
       "Label(value='')"
      ]
     },
     "metadata": {},
     "output_type": "display_data"
    },
    {
     "data": {
      "application/vnd.jupyter.widget-view+json": {
       "model_id": "4c7473bab81e4197ba78d3192797b056",
       "version_major": 2,
       "version_minor": 0
      },
      "text/plain": [
       "Output()"
      ]
     },
     "metadata": {},
     "output_type": "display_data"
    }
   ],
   "source": [
    "import json\n",
    "import os\n",
    "import re\n",
    "import shutil\n",
    "from pdfminer.high_level import extract_text\n",
    "import ipywidgets as widgets\n",
    "from IPython.display import display\n",
    "\n",
    "# Hàm để đếm số lần xuất hiện của các từ khóa với phân biệt hoa-thường\n",
    "def count_word_occurrences(file_path, target_words, progress_bar, status_label):\n",
    "    with open(file_path, 'rb') as file:\n",
    "        text = extract_text(file)\n",
    "\n",
    "    occurrences = {}\n",
    "    total_count = 0  # Tổng số lần từ khóa xuất hiện\n",
    "    \n",
    "    for i, target_word in enumerate(target_words):\n",
    "        progress_bar.value = (i + 1) / len(target_words)\n",
    "        status_label.value = f\"Đang kiểm tra từ khóa '{target_word}'...\"\n",
    "        \n",
    "        # Kiểm tra phân biệt hoa-thường cho \"AI\" và \"ai\"\n",
    "        if target_word == \"AI\":\n",
    "            count = len(re.findall(r'\\bAI\\b', text))\n",
    "        elif target_word == \"ai\":\n",
    "            count = len(re.findall(r'\\bai\\b', text))\n",
    "        else:\n",
    "            pattern = re.compile(r'\\b{}\\b'.format(re.escape(target_word)), re.IGNORECASE)\n",
    "            count = len(re.findall(pattern, text))\n",
    "        \n",
    "        occurrences[target_word] = count\n",
    "        total_count += count  # Cộng dồn số lần xuất hiện cho từng từ khóa\n",
    "\n",
    "    # Kiểm tra phân loại PDF\n",
    "    is__non_encoded = total_count > 0  # PDF được mã hóa nếu có ít nhất 1 từ khóa xuất hiện\n",
    "    return occurrences, is__non_encoded\n",
    "\n",
    "# Tự động lấy danh sách file PDF trong thư mục\n",
    "directory_path = \"DemoScan/non_scanned_pdfs/\"\n",
    "pdf_files = [f for f in os.listdir(directory_path) if f.endswith('.pdf')]\n",
    "\n",
    "# Đọc danh sách từ khóa từ file txt\n",
    "txt_file = \"keywords.txt\"\n",
    "with open(txt_file, \"r\", encoding=\"utf-8\") as file:\n",
    "    keywords = [line.strip() for line in file.readlines()]\n",
    "\n",
    "# Thiết lập giao diện với \"All PDF Files\" ở đầu danh sách\n",
    "pdf_file_dropdown = widgets.Dropdown(\n",
    "    options=[\"All PDF Files\"] + pdf_files,\n",
    "    description='Select PDF File'\n",
    ")\n",
    "submit_button = widgets.Button(description='Submit')\n",
    "progress_bar = widgets.FloatProgress(value=0.0, min=0.0, max=1.0, description='Progress:', bar_style='info')\n",
    "status_label = widgets.Label(value=\"\")\n",
    "result_output = widgets.Output()\n",
    "\n",
    "# Đường dẫn thư mục đích để lưu các file đã phân loại\n",
    "encoded_dir = \"DemoScan/non_scanned_pdfs/Encoded_PDFs\"\n",
    "non_encoded_dir = \"DemoScan/non_scanned_pdfs/Non_Encoded_PDFs\"\n",
    "os.makedirs(encoded_dir, exist_ok=True)\n",
    "os.makedirs(non_encoded_dir, exist_ok=True)\n",
    "\n",
    "# Hàm xử lý khi bấm nút Submit\n",
    "def on_submit_clicked(b):\n",
    "    selected_option = pdf_file_dropdown.value\n",
    "    output_file = \"all_pdf_keyword_counts.json\"\n",
    "    all_results = []\n",
    "\n",
    "    if selected_option == \"All PDF Files\":\n",
    "        status_label.value = \"Bắt đầu đếm từ khóa cho tất cả các tệp PDF...\"\n",
    "        for pdf_file in pdf_files:\n",
    "            count_results, is__non_encoded = count_word_occurrences(os.path.join(directory_path, pdf_file), keywords, progress_bar, status_label)\n",
    "            new_results = [{\"PDF File\": pdf_file, \"Keyword\": keyword, \"Count\": count} for keyword, count in count_results.items()]\n",
    "            all_results.extend(new_results)\n",
    "            \n",
    "            # Di chuyển file vào thư mục đã phân loại\n",
    "            if is__non_encoded:\n",
    "                shutil.move(os.path.join(directory_path, pdf_file), os.path.join(non_encoded_dir, pdf_file))\n",
    "            else:\n",
    "                shutil.move(os.path.join(directory_path, pdf_file), os.path.join(encoded_dir, pdf_file))\n",
    "                \n",
    "    else:\n",
    "        pdf_file = selected_option\n",
    "        status_label.value = f\"Đang đếm từ khóa cho tệp: {pdf_file}\"\n",
    "        count_results, is__non_encoded = count_word_occurrences(os.path.join(directory_path, pdf_file), keywords, progress_bar, status_label)\n",
    "        all_results = [{\"PDF File\": pdf_file, \"Keyword\": keyword, \"Count\": count} for keyword, count in count_results.items()]\n",
    "\n",
    "        # Di chuyển file vào thư mục đã phân loại\n",
    "        if is__non_encoded:\n",
    "            shutil.move(os.path.join(directory_path, pdf_file), os.path.join(non_encoded_dir, pdf_file))\n",
    "        else:\n",
    "            shutil.move(os.path.join(directory_path, pdf_file), os.path.join(encoded_dir, pdf_file))\n",
    "\n",
    "    # Ghi kết quả đếm từ khóa vào JSON\n",
    "    if os.path.exists(output_file) and os.path.getsize(output_file) > 0:\n",
    "        with open(output_file, 'r', encoding='utf-8') as f:\n",
    "            existing_data = json.load(f)\n",
    "            existing_data.extend(all_results)\n",
    "        \n",
    "        with open(output_file, 'w', encoding='utf-8') as f:\n",
    "            json.dump(existing_data, f, ensure_ascii=False, indent=4)\n",
    "    else:\n",
    "        with open(output_file, 'w', encoding='utf-8') as f:\n",
    "            json.dump(all_results, f, ensure_ascii=False, indent=4)\n",
    "\n",
    "    with result_output:\n",
    "        result_output.clear_output()\n",
    "        print(f\"Kết quả đã được lưu vào file JSON: {output_file}\")\n",
    "    \n",
    "    status_label.value = \"Hoàn thành!\"\n",
    "\n",
    "# Gán hàm xử lý vào nút\n",
    "submit_button.on_click(on_submit_clicked)\n",
    "\n",
    "# Hiển thị giao diện\n",
    "display(pdf_file_dropdown, submit_button, progress_bar, status_label, result_output)\n"
   ]
  },
  {
   "cell_type": "markdown",
   "metadata": {},
   "source": [
    "# Đoạn code chuyển dữ liệu từ file json sang excel"
   ]
  },
  {
   "cell_type": "code",
   "execution_count": 45,
   "metadata": {},
   "outputs": [
    {
     "name": "stdout",
     "output_type": "stream",
     "text": [
      "Dữ liệu đã được chuyển đổi và lưu vào file Excel: all_pdf_keyword_counts.xlsx\n"
     ]
    }
   ],
   "source": [
    "import pandas as pd\n",
    "import json\n",
    "\n",
    "# Đọc dữ liệu từ file JSON\n",
    "json_file = \"all_pdf_keyword_counts.json\"  # Đường dẫn tới file JSON\n",
    "with open(json_file, 'r', encoding='utf-8') as f:\n",
    "    data = json.load(f)\n",
    "\n",
    "# Chuyển đổi dữ liệu thành DataFrame\n",
    "df = pd.DataFrame(data)\n",
    "\n",
    "# Lưu DataFrame vào file Excel\n",
    "excel_file = \"all_pdf_keyword_counts.xlsx\"  # Đường dẫn tới file Excel đầu ra\n",
    "df.to_excel(excel_file, index=False)\n",
    "\n",
    "print(f\"Dữ liệu đã được chuyển đổi và lưu vào file Excel: {excel_file}\")\n"
   ]
  },
  {
   "cell_type": "markdown",
   "metadata": {},
   "source": [
    "# Đoạn code phân loại File scan và không scan"
   ]
  },
  {
   "cell_type": "code",
   "execution_count": 43,
   "metadata": {},
   "outputs": [
    {
     "name": "stdout",
     "output_type": "stream",
     "text": [
      "ACV_Baocaothuongnien_2019.pdf: 42.64% text present\n",
      "File ACV_Baocaothuongnien_2019.pdf is currently in use. Retrying (1/10) in 1 second...\n",
      "File ACV_Baocaothuongnien_2019.pdf is currently in use. Retrying (2/10) in 1 second...\n",
      "File ACV_Baocaothuongnien_2019.pdf is currently in use. Retrying (3/10) in 1 second...\n",
      "File ACV_Baocaothuongnien_2019.pdf is currently in use. Retrying (4/10) in 1 second...\n",
      "File ACV_Baocaothuongnien_2019.pdf is currently in use. Retrying (5/10) in 1 second...\n",
      "File ACV_Baocaothuongnien_2019.pdf is currently in use. Retrying (6/10) in 1 second...\n",
      "File ACV_Baocaothuongnien_2019.pdf is currently in use. Retrying (7/10) in 1 second...\n",
      "File ACV_Baocaothuongnien_2019.pdf is currently in use. Retrying (8/10) in 1 second...\n",
      "File ACV_Baocaothuongnien_2019.pdf is currently in use. Retrying (9/10) in 1 second...\n",
      "File ACV_Baocaothuongnien_2019.pdf is currently in use. Retrying (10/10) in 1 second...\n",
      "DNL_Baocaothuongnien_2020.pdf: 0.00% text present\n",
      "Moved DNL_Baocaothuongnien_2020.pdf to ./DemoScan/scanned_pdfs.\n"
     ]
    }
   ],
   "source": [
    "import os\n",
    "import shutil\n",
    "import fitz\n",
    "import time\n",
    "\n",
    "def get_text_percentage(file_name: str) -> float:\n",
    "    \"\"\"\n",
    "    Calculate the percentage of document that is covered by (searchable) text.\n",
    "    \n",
    "    If the returned percentage of text is very low, the document is\n",
    "    most likely a scanned PDF.\n",
    "    \"\"\"\n",
    "    total_page_area = 0.0\n",
    "    total_text_area = 0.0\n",
    "\n",
    "    doc = fitz.open(file_name)\n",
    "\n",
    "    for page in doc:\n",
    "        total_page_area += abs(page.rect)  # Diện tích tổng của trang\n",
    "        text_area = sum(abs(fitz.Rect(b[:4])) for b in page.get_text(\"blocks\"))  # Tính tổng diện tích văn bản\n",
    "        total_text_area += text_area\n",
    "\n",
    "    doc.close()\n",
    "    return total_text_area / total_page_area if total_page_area > 0 else 0\n",
    "\n",
    "def classify_pdfs(source_directory: str, scanned_folder: str, non_scanned_folder: str):\n",
    "    \"\"\"\n",
    "    Classify PDFs into scanned and non-scanned folders based on text content percentage.\n",
    "    \"\"\"\n",
    "    # Tạo các thư mục cho file scan và không scan nếu chưa tồn tại\n",
    "    os.makedirs(scanned_folder, exist_ok=True)\n",
    "    os.makedirs(non_scanned_folder, exist_ok=True)\n",
    "\n",
    "    # Lấy danh sách các file PDF trong thư mục nguồn\n",
    "    pdf_files = [f for f in os.listdir(source_directory) if f.endswith('.pdf')]\n",
    "\n",
    "    # Phân loại và di chuyển các file PDF\n",
    "    for pdf_file in pdf_files:\n",
    "        file_path = os.path.join(source_directory, pdf_file)\n",
    "\n",
    "        # Tính phần trăm văn bản\n",
    "        text_perc = get_text_percentage(file_path)\n",
    "        \n",
    "        # In ra phần trăm văn bản\n",
    "        print(f\"{pdf_file}: {text_perc:.2%} text present\")\n",
    "\n",
    "        # Định nghĩa thư mục đích\n",
    "        destination = scanned_folder if text_perc < 0.01 else non_scanned_folder\n",
    "\n",
    "        # Thử di chuyển file, xử lý lỗi nếu cần\n",
    "        max_retries = 5  # Số lần thử tối đa\n",
    "        retries = 0\n",
    "        while retries < max_retries:\n",
    "            try:\n",
    "                shutil.move(file_path, os.path.join(destination, pdf_file))\n",
    "                print(f\"Moved {pdf_file} to {destination}.\")\n",
    "                break  # Thoát khỏi vòng lặp nếu di chuyển thành công\n",
    "            except PermissionError:\n",
    "                retries += 1\n",
    "                print(f\"File {pdf_file} is currently in use. Retrying ({retries}/{max_retries}) in 1 second...\")\n",
    "                time.sleep(1)  # Chờ 1 giây trước khi thử lại\n",
    "            except Exception as e:\n",
    "                print(f\"An unexpected error occurred: {e}\")\n",
    "                break  # Thoát khỏi vòng lặp nếu có lỗi khác\n",
    "\n",
    "if __name__ == \"__main__\":\n",
    "    source_directory = \"./DemoScan\"  # Đường dẫn đến thư mục chứa các file PDF\n",
    "    scanned_folder = \"./DemoScan/scanned_pdfs\"\n",
    "    non_scanned_folder = \"./DemoScan/non_scanned_pdfs\"\n",
    "    \n",
    "    classify_pdfs(source_directory, scanned_folder, non_scanned_folder)\n"
   ]
  },
  {
   "cell_type": "markdown",
   "metadata": {},
   "source": [
    "# Đoạn code lấy ảnh trong thư mục và dùng i2OCR"
   ]
  },
  {
   "cell_type": "code",
   "execution_count": null,
   "metadata": {},
   "outputs": [
    {
     "name": "stdout",
     "output_type": "stream",
     "text": [
      "Version 4.25.0\n"
     ]
    }
   ],
   "source": [
    "import selenium\n",
    "print(\"Version \" + selenium.__version__)\n",
    "\n",
    "# <span class=\"btn btn-file\"><span class=\"fileupload-new\">Select Image</span><span class=\"fileupload-exists\">Change</span><input type=\"file\" id=\"i2ocr_uploadedfile\" name=\"i2ocr_uploadedfile\"></span>\n",
    "# <input type=\"submit\" style=\"margin-left:-50px;\" title=\"Perform OCR\" class=\"btn btn-large btn-danger bold space\" id=\"submit_i2ocr\" value=\"Extract Text\">\n",
    "# <textarea id=\"ocrTextBox\" rows=\"12\" class=\"i2ocr_iTextArea\" style=\"display: inline-block; direction: ltr;\"></textarea>\n",
    "\n",
    "# Xpath, //div/span[@class='btn btn-file']"
   ]
  },
  {
   "cell_type": "code",
   "execution_count": 2,
   "metadata": {},
   "outputs": [],
   "source": [
    "from selenium import webdriver\n",
    "from selenium.webdriver.common.by import By\n",
    "from selenium.webdriver.common.action_chains import ActionChains\n",
    "import time"
   ]
  },
  {
   "cell_type": "code",
   "execution_count": null,
   "metadata": {},
   "outputs": [],
   "source": [
    "# Demo\n",
    "from selenium import webdriver\n",
    "from selenium.webdriver.common.by import By\n",
    "from pynput.keyboard import Key, Controller\n",
    "import time\n",
    "driver = webdriver.Chrome()\n",
    "driver.implicitly_wait(10)\n",
    "driver.get(\"https://2ocr.com/online-ocr-vietnamese/\")\n",
    "driver.find_element(By.XPATH, \"//div[@class='filepicker dropzone filePicker dz-clickable']\").click()\n",
    "time.sleep(3)\n",
    "\n",
    "keyboard = Controller()\n",
    "keyboard.type(\"E:\\\\NCKHDigital\\\\Photos\\\\BCphotos\\\\0004.jpg\")\n",
    "keyboard.press(Key.enter)\n",
    "\n",
    "\n",
    "# driver.quit()"
   ]
  },
  {
   "cell_type": "code",
   "execution_count": null,
   "metadata": {},
   "outputs": [],
   "source": [
    "# https://www.i2ocr.com/free-online-vietnamese-ocr\n",
    "from selenium import webdriver\n",
    "from selenium.webdriver.common.by import By\n",
    "from pynput.keyboard import Key, Controller\n",
    "import time\n",
    "driver = webdriver.Chrome()\n",
    "driver.implicitly_wait(10)\n",
    "driver.get(\"https://www.i2ocr.com/free-online-vietnamese-ocr/\")\n",
    "driver.find_element(By.XPATH, \"//div/span[@class='btn btn-file']\").click()\n",
    "time.sleep(3)\n",
    "\n",
    "keyboard = Controller()\n",
    "keyboard.type(\"E:\\\\NCKHDigital\\\\Photos\\\\BCphotos\\\\0004.jpg\")\n",
    "keyboard.press(Key.enter)\n"
   ]
  },
  {
   "cell_type": "code",
   "execution_count": 23,
   "metadata": {},
   "outputs": [
    {
     "ename": "WebDriverException",
     "evalue": "Message: unknown error: path is not absolute: ./Photos/BCphotos/0004.jpg\n  (Session info: chrome=130.0.6723.70)\nStacktrace:\n\tGetHandleVerifier [0x00007FF7B8003AF5+28005]\n\t(No symbol) [0x00007FF7B7F683F0]\n\t(No symbol) [0x00007FF7B7E0580A]\n\t(No symbol) [0x00007FF7B7E1567C]\n\t(No symbol) [0x00007FF7B7E4D4A0]\n\t(No symbol) [0x00007FF7B7E7BA3A]\n\t(No symbol) [0x00007FF7B7E49246]\n\t(No symbol) [0x00007FF7B7E7BC50]\n\t(No symbol) [0x00007FF7B7E9B8B3]\n\t(No symbol) [0x00007FF7B7E7B7E3]\n\t(No symbol) [0x00007FF7B7E475C8]\n\t(No symbol) [0x00007FF7B7E48731]\n\tGetHandleVerifier [0x00007FF7B82F646D+3118813]\n\tGetHandleVerifier [0x00007FF7B8346CC0+3448624]\n\tGetHandleVerifier [0x00007FF7B833CF3D+3408301]\n\tGetHandleVerifier [0x00007FF7B80CA44B+841403]\n\t(No symbol) [0x00007FF7B7F7344F]\n\t(No symbol) [0x00007FF7B7F6F4C4]\n\t(No symbol) [0x00007FF7B7F6F65D]\n\t(No symbol) [0x00007FF7B7F5EBB9]\n\tBaseThreadInitThunk [0x00007FFCBE027374+20]\n\tRtlUserThreadStart [0x00007FFCBE1FCC91+33]\n",
     "output_type": "error",
     "traceback": [
      "\u001b[1;31m---------------------------------------------------------------------------\u001b[0m",
      "\u001b[1;31mWebDriverException\u001b[0m                        Traceback (most recent call last)",
      "Cell \u001b[1;32mIn[23], line 13\u001b[0m\n\u001b[0;32m     11\u001b[0m upload_button \u001b[38;5;241m=\u001b[39m driver\u001b[38;5;241m.\u001b[39mfind_element(By\u001b[38;5;241m.\u001b[39mCLASS_NAME, \u001b[38;5;124m\"\u001b[39m\u001b[38;5;124mbtn-file\u001b[39m\u001b[38;5;124m\"\u001b[39m)\n\u001b[0;32m     12\u001b[0m file_input \u001b[38;5;241m=\u001b[39m upload_button\u001b[38;5;241m.\u001b[39mfind_element(By\u001b[38;5;241m.\u001b[39mTAG_NAME, \u001b[38;5;124m\"\u001b[39m\u001b[38;5;124minput\u001b[39m\u001b[38;5;124m\"\u001b[39m)\n\u001b[1;32m---> 13\u001b[0m \u001b[43mfile_input\u001b[49m\u001b[38;5;241;43m.\u001b[39;49m\u001b[43msend_keys\u001b[49m\u001b[43m(\u001b[49m\u001b[43mimage_path\u001b[49m\u001b[43m)\u001b[49m\n\u001b[0;32m     15\u001b[0m \u001b[38;5;66;03m# 2. Tìm nút \"Extract Text\" và bấm vào\u001b[39;00m\n\u001b[0;32m     16\u001b[0m submit_button \u001b[38;5;241m=\u001b[39m driver\u001b[38;5;241m.\u001b[39mfind_element(By\u001b[38;5;241m.\u001b[39mID, \u001b[38;5;124m\"\u001b[39m\u001b[38;5;124msubmit_i2ocr\u001b[39m\u001b[38;5;124m\"\u001b[39m)\n",
      "File \u001b[1;32mh:\\AnacondaApp\\Lib\\site-packages\\selenium\\webdriver\\remote\\webelement.py:231\u001b[0m, in \u001b[0;36mWebElement.send_keys\u001b[1;34m(self, *value)\u001b[0m\n\u001b[0;32m    228\u001b[0m             remote_files\u001b[38;5;241m.\u001b[39mappend(\u001b[38;5;28mself\u001b[39m\u001b[38;5;241m.\u001b[39m_upload(file))\n\u001b[0;32m    229\u001b[0m         value \u001b[38;5;241m=\u001b[39m \u001b[38;5;28mtuple\u001b[39m(\u001b[38;5;124m\"\u001b[39m\u001b[38;5;130;01m\\n\u001b[39;00m\u001b[38;5;124m\"\u001b[39m\u001b[38;5;241m.\u001b[39mjoin(remote_files))\n\u001b[1;32m--> 231\u001b[0m \u001b[38;5;28;43mself\u001b[39;49m\u001b[38;5;241;43m.\u001b[39;49m\u001b[43m_execute\u001b[49m\u001b[43m(\u001b[49m\n\u001b[0;32m    232\u001b[0m \u001b[43m    \u001b[49m\u001b[43mCommand\u001b[49m\u001b[38;5;241;43m.\u001b[39;49m\u001b[43mSEND_KEYS_TO_ELEMENT\u001b[49m\u001b[43m,\u001b[49m\u001b[43m \u001b[49m\u001b[43m{\u001b[49m\u001b[38;5;124;43m\"\u001b[39;49m\u001b[38;5;124;43mtext\u001b[39;49m\u001b[38;5;124;43m\"\u001b[39;49m\u001b[43m:\u001b[49m\u001b[43m \u001b[49m\u001b[38;5;124;43m\"\u001b[39;49m\u001b[38;5;124;43m\"\u001b[39;49m\u001b[38;5;241;43m.\u001b[39;49m\u001b[43mjoin\u001b[49m\u001b[43m(\u001b[49m\u001b[43mkeys_to_typing\u001b[49m\u001b[43m(\u001b[49m\u001b[43mvalue\u001b[49m\u001b[43m)\u001b[49m\u001b[43m)\u001b[49m\u001b[43m,\u001b[49m\u001b[43m \u001b[49m\u001b[38;5;124;43m\"\u001b[39;49m\u001b[38;5;124;43mvalue\u001b[39;49m\u001b[38;5;124;43m\"\u001b[39;49m\u001b[43m:\u001b[49m\u001b[43m \u001b[49m\u001b[43mkeys_to_typing\u001b[49m\u001b[43m(\u001b[49m\u001b[43mvalue\u001b[49m\u001b[43m)\u001b[49m\u001b[43m}\u001b[49m\n\u001b[0;32m    233\u001b[0m \u001b[43m\u001b[49m\u001b[43m)\u001b[49m\n",
      "File \u001b[1;32mh:\\AnacondaApp\\Lib\\site-packages\\selenium\\webdriver\\remote\\webelement.py:395\u001b[0m, in \u001b[0;36mWebElement._execute\u001b[1;34m(self, command, params)\u001b[0m\n\u001b[0;32m    393\u001b[0m     params \u001b[38;5;241m=\u001b[39m {}\n\u001b[0;32m    394\u001b[0m params[\u001b[38;5;124m\"\u001b[39m\u001b[38;5;124mid\u001b[39m\u001b[38;5;124m\"\u001b[39m] \u001b[38;5;241m=\u001b[39m \u001b[38;5;28mself\u001b[39m\u001b[38;5;241m.\u001b[39m_id\n\u001b[1;32m--> 395\u001b[0m \u001b[38;5;28;01mreturn\u001b[39;00m \u001b[38;5;28;43mself\u001b[39;49m\u001b[38;5;241;43m.\u001b[39;49m\u001b[43m_parent\u001b[49m\u001b[38;5;241;43m.\u001b[39;49m\u001b[43mexecute\u001b[49m\u001b[43m(\u001b[49m\u001b[43mcommand\u001b[49m\u001b[43m,\u001b[49m\u001b[43m \u001b[49m\u001b[43mparams\u001b[49m\u001b[43m)\u001b[49m\n",
      "File \u001b[1;32mh:\\AnacondaApp\\Lib\\site-packages\\selenium\\webdriver\\remote\\webdriver.py:354\u001b[0m, in \u001b[0;36mWebDriver.execute\u001b[1;34m(self, driver_command, params)\u001b[0m\n\u001b[0;32m    352\u001b[0m response \u001b[38;5;241m=\u001b[39m \u001b[38;5;28mself\u001b[39m\u001b[38;5;241m.\u001b[39mcommand_executor\u001b[38;5;241m.\u001b[39mexecute(driver_command, params)\n\u001b[0;32m    353\u001b[0m \u001b[38;5;28;01mif\u001b[39;00m response:\n\u001b[1;32m--> 354\u001b[0m     \u001b[38;5;28;43mself\u001b[39;49m\u001b[38;5;241;43m.\u001b[39;49m\u001b[43merror_handler\u001b[49m\u001b[38;5;241;43m.\u001b[39;49m\u001b[43mcheck_response\u001b[49m\u001b[43m(\u001b[49m\u001b[43mresponse\u001b[49m\u001b[43m)\u001b[49m\n\u001b[0;32m    355\u001b[0m     response[\u001b[38;5;124m\"\u001b[39m\u001b[38;5;124mvalue\u001b[39m\u001b[38;5;124m\"\u001b[39m] \u001b[38;5;241m=\u001b[39m \u001b[38;5;28mself\u001b[39m\u001b[38;5;241m.\u001b[39m_unwrap_value(response\u001b[38;5;241m.\u001b[39mget(\u001b[38;5;124m\"\u001b[39m\u001b[38;5;124mvalue\u001b[39m\u001b[38;5;124m\"\u001b[39m, \u001b[38;5;28;01mNone\u001b[39;00m))\n\u001b[0;32m    356\u001b[0m     \u001b[38;5;28;01mreturn\u001b[39;00m response\n",
      "File \u001b[1;32mh:\\AnacondaApp\\Lib\\site-packages\\selenium\\webdriver\\remote\\errorhandler.py:229\u001b[0m, in \u001b[0;36mErrorHandler.check_response\u001b[1;34m(self, response)\u001b[0m\n\u001b[0;32m    227\u001b[0m         alert_text \u001b[38;5;241m=\u001b[39m value[\u001b[38;5;124m\"\u001b[39m\u001b[38;5;124malert\u001b[39m\u001b[38;5;124m\"\u001b[39m]\u001b[38;5;241m.\u001b[39mget(\u001b[38;5;124m\"\u001b[39m\u001b[38;5;124mtext\u001b[39m\u001b[38;5;124m\"\u001b[39m)\n\u001b[0;32m    228\u001b[0m     \u001b[38;5;28;01mraise\u001b[39;00m exception_class(message, screen, stacktrace, alert_text)  \u001b[38;5;66;03m# type: ignore[call-arg]  # mypy is not smart enough here\u001b[39;00m\n\u001b[1;32m--> 229\u001b[0m \u001b[38;5;28;01mraise\u001b[39;00m exception_class(message, screen, stacktrace)\n",
      "\u001b[1;31mWebDriverException\u001b[0m: Message: unknown error: path is not absolute: ./Photos/BCphotos/0004.jpg\n  (Session info: chrome=130.0.6723.70)\nStacktrace:\n\tGetHandleVerifier [0x00007FF7B8003AF5+28005]\n\t(No symbol) [0x00007FF7B7F683F0]\n\t(No symbol) [0x00007FF7B7E0580A]\n\t(No symbol) [0x00007FF7B7E1567C]\n\t(No symbol) [0x00007FF7B7E4D4A0]\n\t(No symbol) [0x00007FF7B7E7BA3A]\n\t(No symbol) [0x00007FF7B7E49246]\n\t(No symbol) [0x00007FF7B7E7BC50]\n\t(No symbol) [0x00007FF7B7E9B8B3]\n\t(No symbol) [0x00007FF7B7E7B7E3]\n\t(No symbol) [0x00007FF7B7E475C8]\n\t(No symbol) [0x00007FF7B7E48731]\n\tGetHandleVerifier [0x00007FF7B82F646D+3118813]\n\tGetHandleVerifier [0x00007FF7B8346CC0+3448624]\n\tGetHandleVerifier [0x00007FF7B833CF3D+3408301]\n\tGetHandleVerifier [0x00007FF7B80CA44B+841403]\n\t(No symbol) [0x00007FF7B7F7344F]\n\t(No symbol) [0x00007FF7B7F6F4C4]\n\t(No symbol) [0x00007FF7B7F6F65D]\n\t(No symbol) [0x00007FF7B7F5EBB9]\n\tBaseThreadInitThunk [0x00007FFCBE027374+20]\n\tRtlUserThreadStart [0x00007FFCBE1FCC91+33]\n"
     ]
    }
   ],
   "source": [
    "# Đường dẫn tới ảnh bạn muốn upload và file txt lưu trữ kết quả\n",
    "image_path = './Photos/BCphotos/0004.jpg'\n",
    "output_file_path = 'output.txt'\n",
    "\n",
    "# Khởi tạo trình duyệt và truy cập vào trang web\n",
    "driver = webdriver.Chrome()  # Hoặc ChromeDriver, GeckoDriver tùy thuộc vào trình duyệt\n",
    "driver.get(\"https://www.i2ocr.com/free-online-vietnamese-ocr\")\n",
    "\n",
    "try:\n",
    "    # 1. Tìm nút \"Select Image\" và tải ảnh lên\n",
    "    upload_button = driver.find_element(By.CLASS_NAME, \"btn-file\")\n",
    "    file_input = upload_button.find_element(By.TAG_NAME, \"input\")\n",
    "    file_input.send_keys(image_path)\n",
    "    \n",
    "    # 2. Tìm nút \"Extract Text\" và bấm vào\n",
    "    submit_button = driver.find_element(By.ID, \"submit_i2ocr\")\n",
    "    submit_button.click()\n",
    "    \n",
    "    # Chờ để đảm bảo OCR hoàn tất\n",
    "    time.sleep(10)  # Thời gian có thể thay đổi tùy thuộc vào tốc độ xử lý\n",
    "    \n",
    "    # 3. Lấy văn bản từ ô text\n",
    "    ocr_textbox = driver.find_element(By.ID, \"ocrTextBox\")\n",
    "    ocr_text = ocr_textbox.get_attribute(\"value\")\n",
    "    \n",
    "    # Ghi kết quả vào file .txt\n",
    "    with open(output_file_path, 'w', encoding='utf-8') as f:\n",
    "        f.write(ocr_text)\n",
    "\n",
    "finally:\n",
    "    # Đóng trình duyệt sau khi hoàn thành\n",
    "    driver.quit()\n"
   ]
  }
 ],
 "metadata": {
  "kernelspec": {
   "display_name": "base",
   "language": "python",
   "name": "python3"
  },
  "language_info": {
   "codemirror_mode": {
    "name": "ipython",
    "version": 3
   },
   "file_extension": ".py",
   "mimetype": "text/x-python",
   "name": "python",
   "nbconvert_exporter": "python",
   "pygments_lexer": "ipython3",
   "version": "3.11.7"
  }
 },
 "nbformat": 4,
 "nbformat_minor": 2
}
